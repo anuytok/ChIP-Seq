{
  "nbformat": 4,
  "nbformat_minor": 0,
  "metadata": {
    "colab": {
      "provenance": [],
      "machine_shape": "hm",
      "authorship_tag": "ABX9TyN4gVqKAMiF5pM2hfAQi+zu",
      "include_colab_link": true
    },
    "kernelspec": {
      "name": "python3",
      "display_name": "Python 3"
    },
    "language_info": {
      "name": "python"
    },
    "accelerator": "GPU",
    "gpuClass": "premium"
  },
  "cells": [
    {
      "cell_type": "markdown",
      "metadata": {
        "id": "view-in-github",
        "colab_type": "text"
      },
      "source": [
        "<a href=\"https://colab.research.google.com/github/anuytok/ChIP-Seq/blob/main/Chip_seq_%D0%95%D1%84%D0%B8%D0%BC%D0%BE%D0%B2%D0%B0_%D0%90%D0%BD%D1%8F.ipynb\" target=\"_parent\"><img src=\"https://colab.research.google.com/assets/colab-badge.svg\" alt=\"Open In Colab\"/></a>"
      ]
    },
    {
      "cell_type": "markdown",
      "source": [
        "Импортируем гугл диск. Оттуда по пути вытащим папку с необходимыми для анализа файлы (UxuR_1, UxuR_2 и контроль UxuR_control)."
      ],
      "metadata": {
        "id": "zS5x8NlnXFKq"
      }
    },
    {
      "cell_type": "code",
      "source": [
        "from google.colab import drive\n",
        "drive.mount('/content/drive')"
      ],
      "metadata": {
        "id": "0JH2bYueKX7q"
      },
      "execution_count": null,
      "outputs": []
    },
    {
      "cell_type": "markdown",
      "source": [
        "Скачаем trimmomatic и положим в рабочую директорию"
      ],
      "metadata": {
        "id": "ICwUjVX5XDSM"
      }
    },
    {
      "cell_type": "code",
      "source": [
        "!wget https://github.com/usadellab/Trimmomatic/files/5854859/Trimmomatic-0.39.zip"
      ],
      "metadata": {
        "id": "S11xg4KmZxlb"
      },
      "execution_count": null,
      "outputs": []
    },
    {
      "cell_type": "code",
      "source": [
        "!unzip /content/Trimmomatic-0.39.zip"
      ],
      "metadata": {
        "id": "yfBV2ZFNZ6gl"
      },
      "execution_count": null,
      "outputs": []
    },
    {
      "cell_type": "markdown",
      "source": [
        "Создадим папку, куда положим результаты trimmomatic для ридов 50SR UxuR"
      ],
      "metadata": {
        "id": "EGq7ZLP4YPAU"
      }
    },
    {
      "cell_type": "code",
      "source": [
        "!mkdir trimmed"
      ],
      "metadata": {
        "id": "b8By5dctZKin"
      },
      "execution_count": null,
      "outputs": []
    },
    {
      "cell_type": "markdown",
      "source": [
        "Экстрагируем риды и обрежем их с помощью Trimmomatic c параметрами \n",
        "\n",
        "ILLUMINACLIP:TruSeq3-PE.fa:2:30:10:2:true LEADING:3 TRAILING:3 MINLEN:36 \n"
      ],
      "metadata": {
        "id": "nWkMek6OZEsa"
      }
    },
    {
      "cell_type": "code",
      "source": [
        "!java -jar /content/Trimmomatic-0.39/trimmomatic-0.39.jar SE /content/drive/MyDrive/HSE_2022/UxuR_1.fastq /content/trimmed/UxuR_1.fastq ILLUMINACLIP:TruSeq3-PE.fa:2:30:10:2:true LEADING:3 TRAILING:3 MINLEN:36 "
      ],
      "metadata": {
        "id": "MmrJz5QEX3aa"
      },
      "execution_count": null,
      "outputs": []
    },
    {
      "cell_type": "code",
      "source": [
        "!java -jar /content/Trimmomatic-0.39/trimmomatic-0.39.jar SE /content/drive/MyDrive/HSE_2022/UxuR_2.fastq /content/trimmed/UxuR_2.fastq ILLUMINACLIP:TruSeq3-PE.fa:2:30:10:2:true LEADING:3 TRAILING:3 MINLEN:36 "
      ],
      "metadata": {
        "id": "dSilnwaskuRF"
      },
      "execution_count": null,
      "outputs": []
    },
    {
      "cell_type": "code",
      "source": [
        "!java -jar /content/Trimmomatic-0.39/trimmomatic-0.39.jar SE /content/drive/MyDrive/HSE_2022/UxuR_control.fastq /content/trimmed/UxuR_control.fastq ILLUMINACLIP:TruSeq3-PE.fa:2:30:10:2:true LEADING:3 TRAILING:3 MINLEN:36 "
      ],
      "metadata": {
        "id": "KzODScIhkylO"
      },
      "execution_count": null,
      "outputs": []
    },
    {
      "cell_type": "markdown",
      "source": [
        "Наложим на геном E. coli K-12 MG1655 genome с помощью Bowtie\n"
      ],
      "metadata": {
        "id": "HfPqwd2tl0HS"
      }
    },
    {
      "cell_type": "code",
      "source": [
        "!pip install -q condacolab\n",
        "import condacolab\n",
        "condacolab.install()"
      ],
      "metadata": {
        "id": "V70KP3Qhl3Rw"
      },
      "execution_count": null,
      "outputs": []
    },
    {
      "cell_type": "code",
      "source": [
        "!conda install -y -c bioconda bowtie2"
      ],
      "metadata": {
        "id": "YjO28qqYEYvV"
      },
      "execution_count": null,
      "outputs": []
    },
    {
      "cell_type": "markdown",
      "source": [
        "Загрузим геном Ecoli_K12_MG1655 (с компьютера)"
      ],
      "metadata": {
        "id": "TiFlOY2Z8fdO"
      }
    },
    {
      "cell_type": "markdown",
      "source": [
        "Проиндексируем геном"
      ],
      "metadata": {
        "id": "wDoaeohO8MVg"
      }
    },
    {
      "cell_type": "code",
      "source": [
        "!bowtie2-build Ecoli_K12_MG1655.fasta Ecoli"
      ],
      "metadata": {
        "id": "ypa6GoIQ7RTe"
      },
      "execution_count": null,
      "outputs": []
    },
    {
      "cell_type": "code",
      "source": [
        "!conda install -y -c bioconda samtools "
      ],
      "metadata": {
        "id": "xTmBnI9HtKrx"
      },
      "execution_count": null,
      "outputs": []
    },
    {
      "cell_type": "code",
      "source": [
        "%cd ../content/"
      ],
      "metadata": {
        "id": "_-UFBJqvS2Dl"
      },
      "execution_count": null,
      "outputs": []
    },
    {
      "cell_type": "markdown",
      "source": [
        "Прокартируем риды с помощью bowtie2, а затем с помощью samtools получим bam файлы, которые отсортируем"
      ],
      "metadata": {
        "id": "uE9nN-UKbBNG"
      }
    },
    {
      "cell_type": "code",
      "source": [
        "!bowtie2 -x Ecoli -U /content/trimmed/UxuR_1.fastq -S /content/trimmed/UxuR_1.sam\n",
        "!samtools view -h -S -b -o /content/trimmed/UxuR_1.bam /content/trimmed/UxuR_1.sam\n",
        "!samtools sort /content/trimmed/UxuR_1.bam -o /content/trimmed/UxuR_1.bam"
      ],
      "metadata": {
        "id": "0Gar8IeD7UJE"
      },
      "execution_count": null,
      "outputs": []
    },
    {
      "cell_type": "code",
      "source": [
        "!bowtie2 -x Ecoli -U /content/trimmed/UxuR_2.fastq -S /content/trimmed/UxuR_2.sam\n",
        "!samtools view -h -S -b -o /content/trimmed/UxuR_2.bam /content/trimmed/UxuR_2.sam\n",
        "!samtools sort /content/trimmed/UxuR_2.bam -o /content/trimmed/UxuR_2.bam"
      ],
      "metadata": {
        "id": "XIldbg_Tc2Xd"
      },
      "execution_count": null,
      "outputs": []
    },
    {
      "cell_type": "code",
      "source": [
        "!bowtie2 -x Ecoli -U /content/trimmed/UxuR_control.fastq -S /content/trimmed/UxuR_control.sam\n",
        "!samtools view -h -S -b -o /content/trimmed/UxuR_control.bam /content/trimmed/UxuR_control.sam\n",
        "!samtools sort /content/trimmed/UxuR_control.bam -o /content/trimmed/UxuR_control.bam"
      ],
      "metadata": {
        "id": "lGU1AJ1hc6MV"
      },
      "execution_count": null,
      "outputs": []
    },
    {
      "cell_type": "markdown",
      "source": [
        "Найдем пики с помощью MACS2 и сделаем таблицу с генами, к которым они относятся"
      ],
      "metadata": {
        "id": "ItLgp2UdcqOm"
      }
    },
    {
      "cell_type": "code",
      "source": [
        "!conda install -c bioconda macs2"
      ],
      "metadata": {
        "id": "RTqLZ2y1cq9r"
      },
      "execution_count": null,
      "outputs": []
    },
    {
      "cell_type": "code",
      "source": [
        "!mkdir macs2"
      ],
      "metadata": {
        "id": "HiHJBglB8r69"
      },
      "execution_count": null,
      "outputs": []
    },
    {
      "cell_type": "code",
      "source": [
        "%cd /content/trimmed"
      ],
      "metadata": {
        "id": "-8hW8McMaAMh"
      },
      "execution_count": null,
      "outputs": []
    },
    {
      "cell_type": "code",
      "source": [
        "!macs2 callpeak -t UxuR_1.bam -c UxuR_control.bam -f BAM --nomodel -p 0.05 --extsize 147 --outdir /content/macs2"
      ],
      "metadata": {
        "id": "EDS3N216RrG2"
      },
      "execution_count": null,
      "outputs": []
    },
    {
      "cell_type": "markdown",
      "source": [
        "Переименуем файлы в соответствии с названием 1 образца и запустим поиск пиков для 2 образца"
      ],
      "metadata": {
        "id": "nPunXznOq8_v"
      }
    },
    {
      "cell_type": "code",
      "source": [
        "!mv /content/macs2/NA_peaks.narrowPeak  /content/macs2/UxuR_1.narrowPeak \n",
        "!mv /content/macs2/NA_summits.bed  /content/macs2/UxuR_1.bed\n",
        "!mv /content/macs2/NA_peaks.xls  /content/macs2/UxuR_1.xls"
      ],
      "metadata": {
        "id": "1WgQJCrirHuf"
      },
      "execution_count": null,
      "outputs": []
    },
    {
      "cell_type": "code",
      "source": [
        "!macs2 callpeak -t UxuR_2.bam -c UxuR_control.bam -f BAM --nomodel -p 0.05 --extsize 147 --outdir /content/macs2"
      ],
      "metadata": {
        "id": "KfHDajHFBHta"
      },
      "execution_count": null,
      "outputs": []
    },
    {
      "cell_type": "markdown",
      "source": [
        "Переименуем файлы в соответствии с названием 2 образца"
      ],
      "metadata": {
        "id": "CknfdA7PsHHQ"
      }
    },
    {
      "cell_type": "code",
      "source": [
        "!mv /content/macs2/NA_peaks.narrowPeak  /content/macs2/UxuR_2.narrowPeak \n",
        "!mv /content/macs2/NA_summits.bed  /content/macs2/UxuR_2.bed\n",
        "!mv /content/macs2/NA_peaks.xls  /content/macs2/UxuR_2.xls"
      ],
      "metadata": {
        "id": "dTZ_7lPgsNfv"
      },
      "execution_count": null,
      "outputs": []
    },
    {
      "cell_type": "markdown",
      "source": [
        "Посмотрим на число пиков в 1 и 2 образце"
      ],
      "metadata": {
        "id": "8xl2c6rnsP3v"
      }
    },
    {
      "cell_type": "code",
      "source": [
        "! wc -l /content/macs2/UxuR_1.narrowPeak"
      ],
      "metadata": {
        "colab": {
          "base_uri": "https://localhost:8080/"
        },
        "id": "JggBFIcUVU2V",
        "outputId": "b2738685-8ddd-491f-bc4b-6023c08b956f"
      },
      "execution_count": null,
      "outputs": [
        {
          "output_type": "stream",
          "name": "stdout",
          "text": [
            "22 /content/macs2/UxuR_1.narrowPeak\n"
          ]
        }
      ]
    },
    {
      "cell_type": "code",
      "source": [
        "! wc -l /content/macs2/UxuR_2.narrowPeak"
      ],
      "metadata": {
        "colab": {
          "base_uri": "https://localhost:8080/"
        },
        "id": "wygTqZiNEB7-",
        "outputId": "9dc617ac-bf12-4d73-fa59-873a42708c82"
      },
      "execution_count": null,
      "outputs": [
        {
          "output_type": "stream",
          "name": "stdout",
          "text": [
            "38 /content/macs2/UxuR_2.narrowPeak\n"
          ]
        }
      ]
    },
    {
      "cell_type": "markdown",
      "source": [
        "Теперь необходимо пересечь координаты полученных пиков по двум образцам. Сделаем это с помощью bedtools."
      ],
      "metadata": {
        "id": "MXwyWmxosuuS"
      }
    },
    {
      "cell_type": "code",
      "source": [
        "!conda install -y -c bioconda bedtools"
      ],
      "metadata": {
        "id": "qkCtsLiaFAcd"
      },
      "execution_count": null,
      "outputs": []
    },
    {
      "cell_type": "code",
      "source": [
        "%cd /content/macs2"
      ],
      "metadata": {
        "id": "T-mufC_OFOtT"
      },
      "execution_count": null,
      "outputs": []
    },
    {
      "cell_type": "code",
      "source": [
        "! bedtools intersect -a UxuR_1.narrowPeak -b UxuR_2.narrowPeak > UxuR.bed"
      ],
      "metadata": {
        "id": "Og1PyU_6F3qZ"
      },
      "execution_count": null,
      "outputs": []
    },
    {
      "cell_type": "markdown",
      "source": [
        "Вытащим из аннотации по данным координатам гены. Учтем, что гены могут перекрываться (то есть координаты пиков могут попадать в промежутки разных генов из аннотации)"
      ],
      "metadata": {
        "id": "CeuujTHltqQd"
      }
    },
    {
      "cell_type": "code",
      "source": [
        "%cd /content/"
      ],
      "metadata": {
        "id": "-Qx0fPFiJPCg"
      },
      "execution_count": null,
      "outputs": []
    },
    {
      "cell_type": "markdown",
      "source": [
        "Сделаем из файла датафрейм"
      ],
      "metadata": {
        "id": "9qajk_1TI8lH"
      }
    },
    {
      "cell_type": "code",
      "source": [
        "!cat /content/macs2/UxuR.bed > UxuR.txt"
      ],
      "metadata": {
        "id": "MW9rna9snOJW"
      },
      "execution_count": null,
      "outputs": []
    },
    {
      "cell_type": "markdown",
      "source": [
        "Скачаем аннотацию генома E. Coli"
      ],
      "metadata": {
        "id": "HWWnb4nenOJW"
      }
    },
    {
      "cell_type": "code",
      "source": [
        "!wget ftp://ftp.ncbi.nlm.nih.gov/genomes/all/GCF/000/005/845/GCF_000005845.2_ASM584v2/GCF_000005845.2_ASM584v2_genomic.gff.gz"
      ],
      "metadata": {
        "id": "f_jxcOe4nOJX"
      },
      "execution_count": null,
      "outputs": []
    },
    {
      "cell_type": "code",
      "source": [
        "!gunzip GCF_000005845.2_ASM584v2_genomic.gff.gz"
      ],
      "metadata": {
        "id": "pJeaJdcvnOJX"
      },
      "execution_count": null,
      "outputs": []
    },
    {
      "cell_type": "code",
      "source": [
        "!cat GCF_000005845.2_ASM584v2_genomic.gff > annotation_pre.txt\n",
        "!awk 'NR>7' annotation_pre.txt  > annotation.txt"
      ],
      "metadata": {
        "id": "gsYh3fwynOJX"
      },
      "execution_count": null,
      "outputs": []
    },
    {
      "cell_type": "code",
      "source": [
        "import pandas as pd\n",
        "import numpy as np"
      ],
      "metadata": {
        "id": "dlfaM9dhvc6I"
      },
      "execution_count": null,
      "outputs": []
    },
    {
      "cell_type": "code",
      "source": [
        "annotation = pd.read_csv('annotation.txt', sep='\\t')\n",
        "uxur = pd.read_csv('UxuR.txt', sep='\\t', names=[\"0\", \"Start\", \"End\", \"3\", '4', '5', '6', 'p-value (-log10)', '8', '9'])\n",
        "uxur = uxur[['Start', 'End', 'p-value (-log10)']]\n",
        "\n",
        "uxur.head()"
      ],
      "metadata": {
        "colab": {
          "base_uri": "https://localhost:8080/",
          "height": 206
        },
        "outputId": "f7ee9069-405e-4de1-b753-f5f55f59db5b",
        "id": "5eo5dkUKnOJY"
      },
      "execution_count": null,
      "outputs": [
        {
          "output_type": "execute_result",
          "data": {
            "text/plain": [
              "     Start      End  p-value (-log10)\n",
              "0   313256   313585           1.58234\n",
              "1  1215793  1215944           3.12916\n",
              "2  1633815  1634134           3.47978\n",
              "3  1636787  1636935           1.52251\n",
              "4  1696006  1696162           1.60706"
            ],
            "text/html": [
              "\n",
              "  <div id=\"df-36e4722e-d4f6-4b75-ac1e-d148fb854174\">\n",
              "    <div class=\"colab-df-container\">\n",
              "      <div>\n",
              "<style scoped>\n",
              "    .dataframe tbody tr th:only-of-type {\n",
              "        vertical-align: middle;\n",
              "    }\n",
              "\n",
              "    .dataframe tbody tr th {\n",
              "        vertical-align: top;\n",
              "    }\n",
              "\n",
              "    .dataframe thead th {\n",
              "        text-align: right;\n",
              "    }\n",
              "</style>\n",
              "<table border=\"1\" class=\"dataframe\">\n",
              "  <thead>\n",
              "    <tr style=\"text-align: right;\">\n",
              "      <th></th>\n",
              "      <th>Start</th>\n",
              "      <th>End</th>\n",
              "      <th>p-value (-log10)</th>\n",
              "    </tr>\n",
              "  </thead>\n",
              "  <tbody>\n",
              "    <tr>\n",
              "      <th>0</th>\n",
              "      <td>313256</td>\n",
              "      <td>313585</td>\n",
              "      <td>1.58234</td>\n",
              "    </tr>\n",
              "    <tr>\n",
              "      <th>1</th>\n",
              "      <td>1215793</td>\n",
              "      <td>1215944</td>\n",
              "      <td>3.12916</td>\n",
              "    </tr>\n",
              "    <tr>\n",
              "      <th>2</th>\n",
              "      <td>1633815</td>\n",
              "      <td>1634134</td>\n",
              "      <td>3.47978</td>\n",
              "    </tr>\n",
              "    <tr>\n",
              "      <th>3</th>\n",
              "      <td>1636787</td>\n",
              "      <td>1636935</td>\n",
              "      <td>1.52251</td>\n",
              "    </tr>\n",
              "    <tr>\n",
              "      <th>4</th>\n",
              "      <td>1696006</td>\n",
              "      <td>1696162</td>\n",
              "      <td>1.60706</td>\n",
              "    </tr>\n",
              "  </tbody>\n",
              "</table>\n",
              "</div>\n",
              "      <button class=\"colab-df-convert\" onclick=\"convertToInteractive('df-36e4722e-d4f6-4b75-ac1e-d148fb854174')\"\n",
              "              title=\"Convert this dataframe to an interactive table.\"\n",
              "              style=\"display:none;\">\n",
              "        \n",
              "  <svg xmlns=\"http://www.w3.org/2000/svg\" height=\"24px\"viewBox=\"0 0 24 24\"\n",
              "       width=\"24px\">\n",
              "    <path d=\"M0 0h24v24H0V0z\" fill=\"none\"/>\n",
              "    <path d=\"M18.56 5.44l.94 2.06.94-2.06 2.06-.94-2.06-.94-.94-2.06-.94 2.06-2.06.94zm-11 1L8.5 8.5l.94-2.06 2.06-.94-2.06-.94L8.5 2.5l-.94 2.06-2.06.94zm10 10l.94 2.06.94-2.06 2.06-.94-2.06-.94-.94-2.06-.94 2.06-2.06.94z\"/><path d=\"M17.41 7.96l-1.37-1.37c-.4-.4-.92-.59-1.43-.59-.52 0-1.04.2-1.43.59L10.3 9.45l-7.72 7.72c-.78.78-.78 2.05 0 2.83L4 21.41c.39.39.9.59 1.41.59.51 0 1.02-.2 1.41-.59l7.78-7.78 2.81-2.81c.8-.78.8-2.07 0-2.86zM5.41 20L4 18.59l7.72-7.72 1.47 1.35L5.41 20z\"/>\n",
              "  </svg>\n",
              "      </button>\n",
              "      \n",
              "  <style>\n",
              "    .colab-df-container {\n",
              "      display:flex;\n",
              "      flex-wrap:wrap;\n",
              "      gap: 12px;\n",
              "    }\n",
              "\n",
              "    .colab-df-convert {\n",
              "      background-color: #E8F0FE;\n",
              "      border: none;\n",
              "      border-radius: 50%;\n",
              "      cursor: pointer;\n",
              "      display: none;\n",
              "      fill: #1967D2;\n",
              "      height: 32px;\n",
              "      padding: 0 0 0 0;\n",
              "      width: 32px;\n",
              "    }\n",
              "\n",
              "    .colab-df-convert:hover {\n",
              "      background-color: #E2EBFA;\n",
              "      box-shadow: 0px 1px 2px rgba(60, 64, 67, 0.3), 0px 1px 3px 1px rgba(60, 64, 67, 0.15);\n",
              "      fill: #174EA6;\n",
              "    }\n",
              "\n",
              "    [theme=dark] .colab-df-convert {\n",
              "      background-color: #3B4455;\n",
              "      fill: #D2E3FC;\n",
              "    }\n",
              "\n",
              "    [theme=dark] .colab-df-convert:hover {\n",
              "      background-color: #434B5C;\n",
              "      box-shadow: 0px 1px 3px 1px rgba(0, 0, 0, 0.15);\n",
              "      filter: drop-shadow(0px 1px 2px rgba(0, 0, 0, 0.3));\n",
              "      fill: #FFFFFF;\n",
              "    }\n",
              "  </style>\n",
              "\n",
              "      <script>\n",
              "        const buttonEl =\n",
              "          document.querySelector('#df-36e4722e-d4f6-4b75-ac1e-d148fb854174 button.colab-df-convert');\n",
              "        buttonEl.style.display =\n",
              "          google.colab.kernel.accessAllowed ? 'block' : 'none';\n",
              "\n",
              "        async function convertToInteractive(key) {\n",
              "          const element = document.querySelector('#df-36e4722e-d4f6-4b75-ac1e-d148fb854174');\n",
              "          const dataTable =\n",
              "            await google.colab.kernel.invokeFunction('convertToInteractive',\n",
              "                                                     [key], {});\n",
              "          if (!dataTable) return;\n",
              "\n",
              "          const docLinkHtml = 'Like what you see? Visit the ' +\n",
              "            '<a target=\"_blank\" href=https://colab.research.google.com/notebooks/data_table.ipynb>data table notebook</a>'\n",
              "            + ' to learn more about interactive tables.';\n",
              "          element.innerHTML = '';\n",
              "          dataTable['output_type'] = 'display_data';\n",
              "          await google.colab.output.renderOutput(dataTable, element);\n",
              "          const docLink = document.createElement('div');\n",
              "          docLink.innerHTML = docLinkHtml;\n",
              "          element.appendChild(docLink);\n",
              "        }\n",
              "      </script>\n",
              "    </div>\n",
              "  </div>\n",
              "  "
            ]
          },
          "metadata": {},
          "execution_count": 15
        }
      ]
    },
    {
      "cell_type": "code",
      "source": [
        "annotation = annotation.loc[annotation['region'] =='gene']\n",
        "annotation = annotation.rename({'1': 'start', '4641652': 'end'}, axis=1)"
      ],
      "metadata": {
        "id": "bz2HAgg_nOJZ"
      },
      "execution_count": null,
      "outputs": []
    },
    {
      "cell_type": "markdown",
      "source": [
        "Создадим в аннотации колонку с названиями генов"
      ],
      "metadata": {
        "id": "I5L-Wt9vTZY1"
      }
    },
    {
      "cell_type": "code",
      "source": [
        "annotation = annotation.rename({'ID=NC_000913.3:1..4641652;Dbxref=taxon:511145;Is_circular=true;Name=ANONYMOUS;gbkey=Src;genome=chromosome;mol_type=genomic DNA;strain=K-12;substrain=MG1655' : 'ID'}, axis=1)\n",
        "annotation['Genes'] = annotation['ID'].apply(lambda s: s.split(\";\")[2])\n",
        "annotation['Gene'] = annotation['Genes'].apply(lambda s: s.split(\"=\")[1])\n",
        "del annotation['Genes']\n",
        "annotation.head()"
      ],
      "metadata": {
        "colab": {
          "base_uri": "https://localhost:8080/",
          "height": 206
        },
        "id": "xM7LAbAH6Ke-",
        "outputId": "fa4c0025-8d0e-43a9-f3a2-761ca2297a16"
      },
      "execution_count": null,
      "outputs": [
        {
          "output_type": "execute_result",
          "data": {
            "text/plain": [
              "   NC_000913.3  RefSeq region   start     end  .  + ..1  \\\n",
              "0  NC_000913.3  RefSeq   gene   190.0   255.0  .  +   .   \n",
              "2  NC_000913.3  RefSeq   gene   337.0  2799.0  .  +   .   \n",
              "4  NC_000913.3  RefSeq   gene  2801.0  3733.0  .  +   .   \n",
              "6  NC_000913.3  RefSeq   gene  3734.0  5020.0  .  +   .   \n",
              "8  NC_000913.3  RefSeq   gene  5234.0  5530.0  .  +   .   \n",
              "\n",
              "                                                  ID  Gene  \n",
              "0  ID=gene-b0001;Dbxref=ASAP:ABE-0000006,ECOCYC:E...  thrL  \n",
              "2  ID=gene-b0002;Dbxref=ASAP:ABE-0000008,ECOCYC:E...  thrA  \n",
              "4  ID=gene-b0003;Dbxref=ASAP:ABE-0000010,ECOCYC:E...  thrB  \n",
              "6  ID=gene-b0004;Dbxref=ASAP:ABE-0000012,ECOCYC:E...  thrC  \n",
              "8  ID=gene-b0005;Dbxref=ASAP:ABE-0000015,ECOCYC:G...  yaaX  "
            ],
            "text/html": [
              "\n",
              "  <div id=\"df-6569abc0-0a0f-4c9c-8d89-4a0b0d77a4d9\">\n",
              "    <div class=\"colab-df-container\">\n",
              "      <div>\n",
              "<style scoped>\n",
              "    .dataframe tbody tr th:only-of-type {\n",
              "        vertical-align: middle;\n",
              "    }\n",
              "\n",
              "    .dataframe tbody tr th {\n",
              "        vertical-align: top;\n",
              "    }\n",
              "\n",
              "    .dataframe thead th {\n",
              "        text-align: right;\n",
              "    }\n",
              "</style>\n",
              "<table border=\"1\" class=\"dataframe\">\n",
              "  <thead>\n",
              "    <tr style=\"text-align: right;\">\n",
              "      <th></th>\n",
              "      <th>NC_000913.3</th>\n",
              "      <th>RefSeq</th>\n",
              "      <th>region</th>\n",
              "      <th>start</th>\n",
              "      <th>end</th>\n",
              "      <th>.</th>\n",
              "      <th>+</th>\n",
              "      <th>..1</th>\n",
              "      <th>ID</th>\n",
              "      <th>Gene</th>\n",
              "    </tr>\n",
              "  </thead>\n",
              "  <tbody>\n",
              "    <tr>\n",
              "      <th>0</th>\n",
              "      <td>NC_000913.3</td>\n",
              "      <td>RefSeq</td>\n",
              "      <td>gene</td>\n",
              "      <td>190.0</td>\n",
              "      <td>255.0</td>\n",
              "      <td>.</td>\n",
              "      <td>+</td>\n",
              "      <td>.</td>\n",
              "      <td>ID=gene-b0001;Dbxref=ASAP:ABE-0000006,ECOCYC:E...</td>\n",
              "      <td>thrL</td>\n",
              "    </tr>\n",
              "    <tr>\n",
              "      <th>2</th>\n",
              "      <td>NC_000913.3</td>\n",
              "      <td>RefSeq</td>\n",
              "      <td>gene</td>\n",
              "      <td>337.0</td>\n",
              "      <td>2799.0</td>\n",
              "      <td>.</td>\n",
              "      <td>+</td>\n",
              "      <td>.</td>\n",
              "      <td>ID=gene-b0002;Dbxref=ASAP:ABE-0000008,ECOCYC:E...</td>\n",
              "      <td>thrA</td>\n",
              "    </tr>\n",
              "    <tr>\n",
              "      <th>4</th>\n",
              "      <td>NC_000913.3</td>\n",
              "      <td>RefSeq</td>\n",
              "      <td>gene</td>\n",
              "      <td>2801.0</td>\n",
              "      <td>3733.0</td>\n",
              "      <td>.</td>\n",
              "      <td>+</td>\n",
              "      <td>.</td>\n",
              "      <td>ID=gene-b0003;Dbxref=ASAP:ABE-0000010,ECOCYC:E...</td>\n",
              "      <td>thrB</td>\n",
              "    </tr>\n",
              "    <tr>\n",
              "      <th>6</th>\n",
              "      <td>NC_000913.3</td>\n",
              "      <td>RefSeq</td>\n",
              "      <td>gene</td>\n",
              "      <td>3734.0</td>\n",
              "      <td>5020.0</td>\n",
              "      <td>.</td>\n",
              "      <td>+</td>\n",
              "      <td>.</td>\n",
              "      <td>ID=gene-b0004;Dbxref=ASAP:ABE-0000012,ECOCYC:E...</td>\n",
              "      <td>thrC</td>\n",
              "    </tr>\n",
              "    <tr>\n",
              "      <th>8</th>\n",
              "      <td>NC_000913.3</td>\n",
              "      <td>RefSeq</td>\n",
              "      <td>gene</td>\n",
              "      <td>5234.0</td>\n",
              "      <td>5530.0</td>\n",
              "      <td>.</td>\n",
              "      <td>+</td>\n",
              "      <td>.</td>\n",
              "      <td>ID=gene-b0005;Dbxref=ASAP:ABE-0000015,ECOCYC:G...</td>\n",
              "      <td>yaaX</td>\n",
              "    </tr>\n",
              "  </tbody>\n",
              "</table>\n",
              "</div>\n",
              "      <button class=\"colab-df-convert\" onclick=\"convertToInteractive('df-6569abc0-0a0f-4c9c-8d89-4a0b0d77a4d9')\"\n",
              "              title=\"Convert this dataframe to an interactive table.\"\n",
              "              style=\"display:none;\">\n",
              "        \n",
              "  <svg xmlns=\"http://www.w3.org/2000/svg\" height=\"24px\"viewBox=\"0 0 24 24\"\n",
              "       width=\"24px\">\n",
              "    <path d=\"M0 0h24v24H0V0z\" fill=\"none\"/>\n",
              "    <path d=\"M18.56 5.44l.94 2.06.94-2.06 2.06-.94-2.06-.94-.94-2.06-.94 2.06-2.06.94zm-11 1L8.5 8.5l.94-2.06 2.06-.94-2.06-.94L8.5 2.5l-.94 2.06-2.06.94zm10 10l.94 2.06.94-2.06 2.06-.94-2.06-.94-.94-2.06-.94 2.06-2.06.94z\"/><path d=\"M17.41 7.96l-1.37-1.37c-.4-.4-.92-.59-1.43-.59-.52 0-1.04.2-1.43.59L10.3 9.45l-7.72 7.72c-.78.78-.78 2.05 0 2.83L4 21.41c.39.39.9.59 1.41.59.51 0 1.02-.2 1.41-.59l7.78-7.78 2.81-2.81c.8-.78.8-2.07 0-2.86zM5.41 20L4 18.59l7.72-7.72 1.47 1.35L5.41 20z\"/>\n",
              "  </svg>\n",
              "      </button>\n",
              "      \n",
              "  <style>\n",
              "    .colab-df-container {\n",
              "      display:flex;\n",
              "      flex-wrap:wrap;\n",
              "      gap: 12px;\n",
              "    }\n",
              "\n",
              "    .colab-df-convert {\n",
              "      background-color: #E8F0FE;\n",
              "      border: none;\n",
              "      border-radius: 50%;\n",
              "      cursor: pointer;\n",
              "      display: none;\n",
              "      fill: #1967D2;\n",
              "      height: 32px;\n",
              "      padding: 0 0 0 0;\n",
              "      width: 32px;\n",
              "    }\n",
              "\n",
              "    .colab-df-convert:hover {\n",
              "      background-color: #E2EBFA;\n",
              "      box-shadow: 0px 1px 2px rgba(60, 64, 67, 0.3), 0px 1px 3px 1px rgba(60, 64, 67, 0.15);\n",
              "      fill: #174EA6;\n",
              "    }\n",
              "\n",
              "    [theme=dark] .colab-df-convert {\n",
              "      background-color: #3B4455;\n",
              "      fill: #D2E3FC;\n",
              "    }\n",
              "\n",
              "    [theme=dark] .colab-df-convert:hover {\n",
              "      background-color: #434B5C;\n",
              "      box-shadow: 0px 1px 3px 1px rgba(0, 0, 0, 0.15);\n",
              "      filter: drop-shadow(0px 1px 2px rgba(0, 0, 0, 0.3));\n",
              "      fill: #FFFFFF;\n",
              "    }\n",
              "  </style>\n",
              "\n",
              "      <script>\n",
              "        const buttonEl =\n",
              "          document.querySelector('#df-6569abc0-0a0f-4c9c-8d89-4a0b0d77a4d9 button.colab-df-convert');\n",
              "        buttonEl.style.display =\n",
              "          google.colab.kernel.accessAllowed ? 'block' : 'none';\n",
              "\n",
              "        async function convertToInteractive(key) {\n",
              "          const element = document.querySelector('#df-6569abc0-0a0f-4c9c-8d89-4a0b0d77a4d9');\n",
              "          const dataTable =\n",
              "            await google.colab.kernel.invokeFunction('convertToInteractive',\n",
              "                                                     [key], {});\n",
              "          if (!dataTable) return;\n",
              "\n",
              "          const docLinkHtml = 'Like what you see? Visit the ' +\n",
              "            '<a target=\"_blank\" href=https://colab.research.google.com/notebooks/data_table.ipynb>data table notebook</a>'\n",
              "            + ' to learn more about interactive tables.';\n",
              "          element.innerHTML = '';\n",
              "          dataTable['output_type'] = 'display_data';\n",
              "          await google.colab.output.renderOutput(dataTable, element);\n",
              "          const docLink = document.createElement('div');\n",
              "          docLink.innerHTML = docLinkHtml;\n",
              "          element.appendChild(docLink);\n",
              "        }\n",
              "      </script>\n",
              "    </div>\n",
              "  </div>\n",
              "  "
            ]
          },
          "metadata": {},
          "execution_count": 17
        }
      ]
    },
    {
      "cell_type": "markdown",
      "source": [
        "Найдем гены, для которых координаты пиков попадают четко в их интервал по аннотации"
      ],
      "metadata": {
        "id": "WTFxdyWYTFpk"
      }
    },
    {
      "cell_type": "code",
      "source": [
        "genes_cross = []\n",
        "for j in uxur.index:\n",
        "  for i in annotation.index:\n",
        "      if (uxur['Start'][j] > annotation['start'][i]) and (uxur['End'][j] < annotation['end'][i]):\n",
        "        genes_cross.append(annotation['start'][i])\n",
        "\n",
        "genes_cross_df = annotation[annotation.loc[:,\"start\"].isin(genes_cross)]\n",
        "genes_cross_df"
      ],
      "metadata": {
        "colab": {
          "base_uri": "https://localhost:8080/",
          "height": 332
        },
        "id": "YIK5aDXkLpSz",
        "outputId": "badd31d9-bf52-4a82-907f-7e38c9193d72"
      },
      "execution_count": null,
      "outputs": [
        {
          "output_type": "execute_result",
          "data": {
            "text/plain": [
              "      NC_000913.3  RefSeq region      start        end  .  + ..1  \\\n",
              "2491  NC_000913.3  RefSeq   gene  1215789.0  1216025.0  .  +   .   \n",
              "3356  NC_000913.3  RefSeq   gene  1633622.0  1634212.0  .  +   .   \n",
              "3364  NC_000913.3  RefSeq   gene  1636756.0  1636989.0  .  +   .   \n",
              "3525  NC_000913.3  RefSeq   gene  1699355.0  1700947.0  .  +   .   \n",
              "3685  NC_000913.3  RefSeq   gene  1775587.0  1777182.0  .  +   .   \n",
              "4420  NC_000913.3  RefSeq   gene  2104494.0  2105084.0  .  -   .   \n",
              "4426  NC_000913.3  RefSeq   gene  2107226.0  2108329.0  .  -   .   \n",
              "6153  NC_000913.3  RefSeq   gene  2992094.0  2993470.0  .  +   .   \n",
              "7799  NC_000913.3  RefSeq   gene  3800267.0  3800965.0  .  -   .   \n",
              "\n",
              "                                                     ID  Gene  \n",
              "2491  ID=gene-b1164;Dbxref=ASAP:ABE-0003907,ECOCYC:G...  ycgZ  \n",
              "3356  ID=gene-b1545;Dbxref=ASAP:ABE-0005164,ECOCYC:G...  pinQ  \n",
              "3364  ID=gene-b4533;Dbxref=ASAP:ABE-0285054,ECOCYC:G...  ynfO  \n",
              "3525  ID=gene-b1621;Dbxref=ASAP:ABE-0005429,ECOCYC:E...  malX  \n",
              "3685  ID=gene-b1694;Dbxref=ASAP:ABE-0005656,ECOCYC:E...  ydiF  \n",
              "4420  ID=gene-b2033;Dbxref=ASAP:ABE-0006749,ECOCYC:E...  wbbJ  \n",
              "4426  ID=gene-b2036;Dbxref=ASAP:ABE-0006755,ECOCYC:E...   glf  \n",
              "6153  ID=gene-b2852;Dbxref=ASAP:ABE-0009368,ECOCYC:G...  ygeH  \n",
              "7799  ID=gene-b3625;Dbxref=ASAP:ABE-0011856,ECOCYC:E...  waaY  "
            ],
            "text/html": [
              "\n",
              "  <div id=\"df-9259fd6c-85df-4b68-9c5d-cd01753ffb9d\">\n",
              "    <div class=\"colab-df-container\">\n",
              "      <div>\n",
              "<style scoped>\n",
              "    .dataframe tbody tr th:only-of-type {\n",
              "        vertical-align: middle;\n",
              "    }\n",
              "\n",
              "    .dataframe tbody tr th {\n",
              "        vertical-align: top;\n",
              "    }\n",
              "\n",
              "    .dataframe thead th {\n",
              "        text-align: right;\n",
              "    }\n",
              "</style>\n",
              "<table border=\"1\" class=\"dataframe\">\n",
              "  <thead>\n",
              "    <tr style=\"text-align: right;\">\n",
              "      <th></th>\n",
              "      <th>NC_000913.3</th>\n",
              "      <th>RefSeq</th>\n",
              "      <th>region</th>\n",
              "      <th>start</th>\n",
              "      <th>end</th>\n",
              "      <th>.</th>\n",
              "      <th>+</th>\n",
              "      <th>..1</th>\n",
              "      <th>ID</th>\n",
              "      <th>Gene</th>\n",
              "    </tr>\n",
              "  </thead>\n",
              "  <tbody>\n",
              "    <tr>\n",
              "      <th>2491</th>\n",
              "      <td>NC_000913.3</td>\n",
              "      <td>RefSeq</td>\n",
              "      <td>gene</td>\n",
              "      <td>1215789.0</td>\n",
              "      <td>1216025.0</td>\n",
              "      <td>.</td>\n",
              "      <td>+</td>\n",
              "      <td>.</td>\n",
              "      <td>ID=gene-b1164;Dbxref=ASAP:ABE-0003907,ECOCYC:G...</td>\n",
              "      <td>ycgZ</td>\n",
              "    </tr>\n",
              "    <tr>\n",
              "      <th>3356</th>\n",
              "      <td>NC_000913.3</td>\n",
              "      <td>RefSeq</td>\n",
              "      <td>gene</td>\n",
              "      <td>1633622.0</td>\n",
              "      <td>1634212.0</td>\n",
              "      <td>.</td>\n",
              "      <td>+</td>\n",
              "      <td>.</td>\n",
              "      <td>ID=gene-b1545;Dbxref=ASAP:ABE-0005164,ECOCYC:G...</td>\n",
              "      <td>pinQ</td>\n",
              "    </tr>\n",
              "    <tr>\n",
              "      <th>3364</th>\n",
              "      <td>NC_000913.3</td>\n",
              "      <td>RefSeq</td>\n",
              "      <td>gene</td>\n",
              "      <td>1636756.0</td>\n",
              "      <td>1636989.0</td>\n",
              "      <td>.</td>\n",
              "      <td>+</td>\n",
              "      <td>.</td>\n",
              "      <td>ID=gene-b4533;Dbxref=ASAP:ABE-0285054,ECOCYC:G...</td>\n",
              "      <td>ynfO</td>\n",
              "    </tr>\n",
              "    <tr>\n",
              "      <th>3525</th>\n",
              "      <td>NC_000913.3</td>\n",
              "      <td>RefSeq</td>\n",
              "      <td>gene</td>\n",
              "      <td>1699355.0</td>\n",
              "      <td>1700947.0</td>\n",
              "      <td>.</td>\n",
              "      <td>+</td>\n",
              "      <td>.</td>\n",
              "      <td>ID=gene-b1621;Dbxref=ASAP:ABE-0005429,ECOCYC:E...</td>\n",
              "      <td>malX</td>\n",
              "    </tr>\n",
              "    <tr>\n",
              "      <th>3685</th>\n",
              "      <td>NC_000913.3</td>\n",
              "      <td>RefSeq</td>\n",
              "      <td>gene</td>\n",
              "      <td>1775587.0</td>\n",
              "      <td>1777182.0</td>\n",
              "      <td>.</td>\n",
              "      <td>+</td>\n",
              "      <td>.</td>\n",
              "      <td>ID=gene-b1694;Dbxref=ASAP:ABE-0005656,ECOCYC:E...</td>\n",
              "      <td>ydiF</td>\n",
              "    </tr>\n",
              "    <tr>\n",
              "      <th>4420</th>\n",
              "      <td>NC_000913.3</td>\n",
              "      <td>RefSeq</td>\n",
              "      <td>gene</td>\n",
              "      <td>2104494.0</td>\n",
              "      <td>2105084.0</td>\n",
              "      <td>.</td>\n",
              "      <td>-</td>\n",
              "      <td>.</td>\n",
              "      <td>ID=gene-b2033;Dbxref=ASAP:ABE-0006749,ECOCYC:E...</td>\n",
              "      <td>wbbJ</td>\n",
              "    </tr>\n",
              "    <tr>\n",
              "      <th>4426</th>\n",
              "      <td>NC_000913.3</td>\n",
              "      <td>RefSeq</td>\n",
              "      <td>gene</td>\n",
              "      <td>2107226.0</td>\n",
              "      <td>2108329.0</td>\n",
              "      <td>.</td>\n",
              "      <td>-</td>\n",
              "      <td>.</td>\n",
              "      <td>ID=gene-b2036;Dbxref=ASAP:ABE-0006755,ECOCYC:E...</td>\n",
              "      <td>glf</td>\n",
              "    </tr>\n",
              "    <tr>\n",
              "      <th>6153</th>\n",
              "      <td>NC_000913.3</td>\n",
              "      <td>RefSeq</td>\n",
              "      <td>gene</td>\n",
              "      <td>2992094.0</td>\n",
              "      <td>2993470.0</td>\n",
              "      <td>.</td>\n",
              "      <td>+</td>\n",
              "      <td>.</td>\n",
              "      <td>ID=gene-b2852;Dbxref=ASAP:ABE-0009368,ECOCYC:G...</td>\n",
              "      <td>ygeH</td>\n",
              "    </tr>\n",
              "    <tr>\n",
              "      <th>7799</th>\n",
              "      <td>NC_000913.3</td>\n",
              "      <td>RefSeq</td>\n",
              "      <td>gene</td>\n",
              "      <td>3800267.0</td>\n",
              "      <td>3800965.0</td>\n",
              "      <td>.</td>\n",
              "      <td>-</td>\n",
              "      <td>.</td>\n",
              "      <td>ID=gene-b3625;Dbxref=ASAP:ABE-0011856,ECOCYC:E...</td>\n",
              "      <td>waaY</td>\n",
              "    </tr>\n",
              "  </tbody>\n",
              "</table>\n",
              "</div>\n",
              "      <button class=\"colab-df-convert\" onclick=\"convertToInteractive('df-9259fd6c-85df-4b68-9c5d-cd01753ffb9d')\"\n",
              "              title=\"Convert this dataframe to an interactive table.\"\n",
              "              style=\"display:none;\">\n",
              "        \n",
              "  <svg xmlns=\"http://www.w3.org/2000/svg\" height=\"24px\"viewBox=\"0 0 24 24\"\n",
              "       width=\"24px\">\n",
              "    <path d=\"M0 0h24v24H0V0z\" fill=\"none\"/>\n",
              "    <path d=\"M18.56 5.44l.94 2.06.94-2.06 2.06-.94-2.06-.94-.94-2.06-.94 2.06-2.06.94zm-11 1L8.5 8.5l.94-2.06 2.06-.94-2.06-.94L8.5 2.5l-.94 2.06-2.06.94zm10 10l.94 2.06.94-2.06 2.06-.94-2.06-.94-.94-2.06-.94 2.06-2.06.94z\"/><path d=\"M17.41 7.96l-1.37-1.37c-.4-.4-.92-.59-1.43-.59-.52 0-1.04.2-1.43.59L10.3 9.45l-7.72 7.72c-.78.78-.78 2.05 0 2.83L4 21.41c.39.39.9.59 1.41.59.51 0 1.02-.2 1.41-.59l7.78-7.78 2.81-2.81c.8-.78.8-2.07 0-2.86zM5.41 20L4 18.59l7.72-7.72 1.47 1.35L5.41 20z\"/>\n",
              "  </svg>\n",
              "      </button>\n",
              "      \n",
              "  <style>\n",
              "    .colab-df-container {\n",
              "      display:flex;\n",
              "      flex-wrap:wrap;\n",
              "      gap: 12px;\n",
              "    }\n",
              "\n",
              "    .colab-df-convert {\n",
              "      background-color: #E8F0FE;\n",
              "      border: none;\n",
              "      border-radius: 50%;\n",
              "      cursor: pointer;\n",
              "      display: none;\n",
              "      fill: #1967D2;\n",
              "      height: 32px;\n",
              "      padding: 0 0 0 0;\n",
              "      width: 32px;\n",
              "    }\n",
              "\n",
              "    .colab-df-convert:hover {\n",
              "      background-color: #E2EBFA;\n",
              "      box-shadow: 0px 1px 2px rgba(60, 64, 67, 0.3), 0px 1px 3px 1px rgba(60, 64, 67, 0.15);\n",
              "      fill: #174EA6;\n",
              "    }\n",
              "\n",
              "    [theme=dark] .colab-df-convert {\n",
              "      background-color: #3B4455;\n",
              "      fill: #D2E3FC;\n",
              "    }\n",
              "\n",
              "    [theme=dark] .colab-df-convert:hover {\n",
              "      background-color: #434B5C;\n",
              "      box-shadow: 0px 1px 3px 1px rgba(0, 0, 0, 0.15);\n",
              "      filter: drop-shadow(0px 1px 2px rgba(0, 0, 0, 0.3));\n",
              "      fill: #FFFFFF;\n",
              "    }\n",
              "  </style>\n",
              "\n",
              "      <script>\n",
              "        const buttonEl =\n",
              "          document.querySelector('#df-9259fd6c-85df-4b68-9c5d-cd01753ffb9d button.colab-df-convert');\n",
              "        buttonEl.style.display =\n",
              "          google.colab.kernel.accessAllowed ? 'block' : 'none';\n",
              "\n",
              "        async function convertToInteractive(key) {\n",
              "          const element = document.querySelector('#df-9259fd6c-85df-4b68-9c5d-cd01753ffb9d');\n",
              "          const dataTable =\n",
              "            await google.colab.kernel.invokeFunction('convertToInteractive',\n",
              "                                                     [key], {});\n",
              "          if (!dataTable) return;\n",
              "\n",
              "          const docLinkHtml = 'Like what you see? Visit the ' +\n",
              "            '<a target=\"_blank\" href=https://colab.research.google.com/notebooks/data_table.ipynb>data table notebook</a>'\n",
              "            + ' to learn more about interactive tables.';\n",
              "          element.innerHTML = '';\n",
              "          dataTable['output_type'] = 'display_data';\n",
              "          await google.colab.output.renderOutput(dataTable, element);\n",
              "          const docLink = document.createElement('div');\n",
              "          docLink.innerHTML = docLinkHtml;\n",
              "          element.appendChild(docLink);\n",
              "        }\n",
              "      </script>\n",
              "    </div>\n",
              "  </div>\n",
              "  "
            ]
          },
          "metadata": {},
          "execution_count": 20
        }
      ]
    },
    {
      "cell_type": "markdown",
      "source": [
        "Найдем гены, для которых начальные координаты пиков могут перекрываться с несколькими генами"
      ],
      "metadata": {
        "id": "QUjGNumeT3bB"
      }
    },
    {
      "cell_type": "code",
      "source": [
        "start_cross = []\n",
        "for j in uxur.index:\n",
        "  for i in annotation.index:\n",
        "      if (uxur['Start'][j] > annotation['start'][i] and uxur['Start'][j] < annotation['end'][i]):\n",
        "        start_cross.append(annotation['start'][i])"
      ],
      "metadata": {
        "id": "5Q6_Ja5-Rkuu"
      },
      "execution_count": null,
      "outputs": []
    },
    {
      "cell_type": "markdown",
      "source": [
        "Удалим совпадающие с 1 массивом элементы"
      ],
      "metadata": {
        "id": "YlMB5mNeWpyP"
      }
    },
    {
      "cell_type": "code",
      "source": [
        "for a in genes_cross:\n",
        "  for b in start_cross:\n",
        "    if a == b:\n",
        "      start_cross.remove(b)"
      ],
      "metadata": {
        "id": "x7_qBeOuWpJH"
      },
      "execution_count": null,
      "outputs": []
    },
    {
      "cell_type": "code",
      "source": [
        "start_cross_df = annotation[annotation.loc[:,\"start\"].isin(start_cross)]\n",
        "start_cross_df"
      ],
      "metadata": {
        "colab": {
          "base_uri": "https://localhost:8080/",
          "height": 112
        },
        "id": "kpwMVZ5vT_7G",
        "outputId": "ed50447a-14f0-4399-f906-35c2df782c39"
      },
      "execution_count": null,
      "outputs": [
        {
          "output_type": "execute_result",
          "data": {
            "text/plain": [
              "      NC_000913.3  RefSeq region      start        end  .  + ..1  \\\n",
              "3517  NC_000913.3  RefSeq   gene  1694260.0  1696071.0  .  -   .   \n",
              "6148  NC_000913.3  RefSeq   gene  2989935.0  2990360.0  .  -   .   \n",
              "\n",
              "                                                     ID  Gene  \n",
              "3517  ID=gene-b1617;Dbxref=ASAP:ABE-0005410,ECOCYC:E...  uidA  \n",
              "6148  ID=gene-b2849;Dbxref=ASAP:ABE-0009356,ECOCYC:G...  yqeK  "
            ],
            "text/html": [
              "\n",
              "  <div id=\"df-1f64a61e-8dda-4c2b-b6d8-2cab8eb5a549\">\n",
              "    <div class=\"colab-df-container\">\n",
              "      <div>\n",
              "<style scoped>\n",
              "    .dataframe tbody tr th:only-of-type {\n",
              "        vertical-align: middle;\n",
              "    }\n",
              "\n",
              "    .dataframe tbody tr th {\n",
              "        vertical-align: top;\n",
              "    }\n",
              "\n",
              "    .dataframe thead th {\n",
              "        text-align: right;\n",
              "    }\n",
              "</style>\n",
              "<table border=\"1\" class=\"dataframe\">\n",
              "  <thead>\n",
              "    <tr style=\"text-align: right;\">\n",
              "      <th></th>\n",
              "      <th>NC_000913.3</th>\n",
              "      <th>RefSeq</th>\n",
              "      <th>region</th>\n",
              "      <th>start</th>\n",
              "      <th>end</th>\n",
              "      <th>.</th>\n",
              "      <th>+</th>\n",
              "      <th>..1</th>\n",
              "      <th>ID</th>\n",
              "      <th>Gene</th>\n",
              "    </tr>\n",
              "  </thead>\n",
              "  <tbody>\n",
              "    <tr>\n",
              "      <th>3517</th>\n",
              "      <td>NC_000913.3</td>\n",
              "      <td>RefSeq</td>\n",
              "      <td>gene</td>\n",
              "      <td>1694260.0</td>\n",
              "      <td>1696071.0</td>\n",
              "      <td>.</td>\n",
              "      <td>-</td>\n",
              "      <td>.</td>\n",
              "      <td>ID=gene-b1617;Dbxref=ASAP:ABE-0005410,ECOCYC:E...</td>\n",
              "      <td>uidA</td>\n",
              "    </tr>\n",
              "    <tr>\n",
              "      <th>6148</th>\n",
              "      <td>NC_000913.3</td>\n",
              "      <td>RefSeq</td>\n",
              "      <td>gene</td>\n",
              "      <td>2989935.0</td>\n",
              "      <td>2990360.0</td>\n",
              "      <td>.</td>\n",
              "      <td>-</td>\n",
              "      <td>.</td>\n",
              "      <td>ID=gene-b2849;Dbxref=ASAP:ABE-0009356,ECOCYC:G...</td>\n",
              "      <td>yqeK</td>\n",
              "    </tr>\n",
              "  </tbody>\n",
              "</table>\n",
              "</div>\n",
              "      <button class=\"colab-df-convert\" onclick=\"convertToInteractive('df-1f64a61e-8dda-4c2b-b6d8-2cab8eb5a549')\"\n",
              "              title=\"Convert this dataframe to an interactive table.\"\n",
              "              style=\"display:none;\">\n",
              "        \n",
              "  <svg xmlns=\"http://www.w3.org/2000/svg\" height=\"24px\"viewBox=\"0 0 24 24\"\n",
              "       width=\"24px\">\n",
              "    <path d=\"M0 0h24v24H0V0z\" fill=\"none\"/>\n",
              "    <path d=\"M18.56 5.44l.94 2.06.94-2.06 2.06-.94-2.06-.94-.94-2.06-.94 2.06-2.06.94zm-11 1L8.5 8.5l.94-2.06 2.06-.94-2.06-.94L8.5 2.5l-.94 2.06-2.06.94zm10 10l.94 2.06.94-2.06 2.06-.94-2.06-.94-.94-2.06-.94 2.06-2.06.94z\"/><path d=\"M17.41 7.96l-1.37-1.37c-.4-.4-.92-.59-1.43-.59-.52 0-1.04.2-1.43.59L10.3 9.45l-7.72 7.72c-.78.78-.78 2.05 0 2.83L4 21.41c.39.39.9.59 1.41.59.51 0 1.02-.2 1.41-.59l7.78-7.78 2.81-2.81c.8-.78.8-2.07 0-2.86zM5.41 20L4 18.59l7.72-7.72 1.47 1.35L5.41 20z\"/>\n",
              "  </svg>\n",
              "      </button>\n",
              "      \n",
              "  <style>\n",
              "    .colab-df-container {\n",
              "      display:flex;\n",
              "      flex-wrap:wrap;\n",
              "      gap: 12px;\n",
              "    }\n",
              "\n",
              "    .colab-df-convert {\n",
              "      background-color: #E8F0FE;\n",
              "      border: none;\n",
              "      border-radius: 50%;\n",
              "      cursor: pointer;\n",
              "      display: none;\n",
              "      fill: #1967D2;\n",
              "      height: 32px;\n",
              "      padding: 0 0 0 0;\n",
              "      width: 32px;\n",
              "    }\n",
              "\n",
              "    .colab-df-convert:hover {\n",
              "      background-color: #E2EBFA;\n",
              "      box-shadow: 0px 1px 2px rgba(60, 64, 67, 0.3), 0px 1px 3px 1px rgba(60, 64, 67, 0.15);\n",
              "      fill: #174EA6;\n",
              "    }\n",
              "\n",
              "    [theme=dark] .colab-df-convert {\n",
              "      background-color: #3B4455;\n",
              "      fill: #D2E3FC;\n",
              "    }\n",
              "\n",
              "    [theme=dark] .colab-df-convert:hover {\n",
              "      background-color: #434B5C;\n",
              "      box-shadow: 0px 1px 3px 1px rgba(0, 0, 0, 0.15);\n",
              "      filter: drop-shadow(0px 1px 2px rgba(0, 0, 0, 0.3));\n",
              "      fill: #FFFFFF;\n",
              "    }\n",
              "  </style>\n",
              "\n",
              "      <script>\n",
              "        const buttonEl =\n",
              "          document.querySelector('#df-1f64a61e-8dda-4c2b-b6d8-2cab8eb5a549 button.colab-df-convert');\n",
              "        buttonEl.style.display =\n",
              "          google.colab.kernel.accessAllowed ? 'block' : 'none';\n",
              "\n",
              "        async function convertToInteractive(key) {\n",
              "          const element = document.querySelector('#df-1f64a61e-8dda-4c2b-b6d8-2cab8eb5a549');\n",
              "          const dataTable =\n",
              "            await google.colab.kernel.invokeFunction('convertToInteractive',\n",
              "                                                     [key], {});\n",
              "          if (!dataTable) return;\n",
              "\n",
              "          const docLinkHtml = 'Like what you see? Visit the ' +\n",
              "            '<a target=\"_blank\" href=https://colab.research.google.com/notebooks/data_table.ipynb>data table notebook</a>'\n",
              "            + ' to learn more about interactive tables.';\n",
              "          element.innerHTML = '';\n",
              "          dataTable['output_type'] = 'display_data';\n",
              "          await google.colab.output.renderOutput(dataTable, element);\n",
              "          const docLink = document.createElement('div');\n",
              "          docLink.innerHTML = docLinkHtml;\n",
              "          element.appendChild(docLink);\n",
              "        }\n",
              "      </script>\n",
              "    </div>\n",
              "  </div>\n",
              "  "
            ]
          },
          "metadata": {},
          "execution_count": 23
        }
      ]
    },
    {
      "cell_type": "markdown",
      "source": [
        "Найдем гены, для которых конечные координаты пиков могут перекрываться с несколькими генами"
      ],
      "metadata": {
        "id": "Y29Mj7jZXc9S"
      }
    },
    {
      "cell_type": "code",
      "source": [
        "end_cross = []\n",
        "for j in uxur.index:\n",
        "  for i in annotation.index:\n",
        "      if (uxur['End'][j] > annotation['start'][i] and uxur['End'][j] < annotation['end'][i]):\n",
        "        end_cross.append(annotation['start'][i])"
      ],
      "metadata": {
        "id": "siX4C6izXc9S"
      },
      "execution_count": null,
      "outputs": []
    },
    {
      "cell_type": "markdown",
      "source": [
        "Удалим совпадающие с 1 массивом элементы"
      ],
      "metadata": {
        "id": "1jPyFu0yXc9T"
      }
    },
    {
      "cell_type": "code",
      "source": [
        "for a in genes_cross:\n",
        "  for b in end_cross:\n",
        "    if a == b:\n",
        "      end_cross.remove(b)"
      ],
      "metadata": {
        "id": "eLgDsdxwXc9T"
      },
      "execution_count": null,
      "outputs": []
    },
    {
      "cell_type": "code",
      "source": [
        "end_cross_df = annotation[annotation.loc[:,\"start\"].isin(end_cross)]\n",
        "end_cross_df"
      ],
      "metadata": {
        "colab": {
          "base_uri": "https://localhost:8080/",
          "height": 81
        },
        "id": "h3HCu_JphQU0",
        "outputId": "81792473-697e-4c4d-b9ff-2af3d61aa174"
      },
      "execution_count": null,
      "outputs": [
        {
          "output_type": "execute_result",
          "data": {
            "text/plain": [
              "      NC_000913.3  RefSeq region      start        end  .  + ..1  \\\n",
              "3521  NC_000913.3  RefSeq   gene  1697273.0  1698040.0  .  -   .   \n",
              "\n",
              "                                                     ID  Gene  \n",
              "3521  ID=gene-b1619;Dbxref=ASAP:ABE-0005419,ECOCYC:E...  hdhA  "
            ],
            "text/html": [
              "\n",
              "  <div id=\"df-11208e29-ff2d-4a13-b5fb-bfe7c35eb075\">\n",
              "    <div class=\"colab-df-container\">\n",
              "      <div>\n",
              "<style scoped>\n",
              "    .dataframe tbody tr th:only-of-type {\n",
              "        vertical-align: middle;\n",
              "    }\n",
              "\n",
              "    .dataframe tbody tr th {\n",
              "        vertical-align: top;\n",
              "    }\n",
              "\n",
              "    .dataframe thead th {\n",
              "        text-align: right;\n",
              "    }\n",
              "</style>\n",
              "<table border=\"1\" class=\"dataframe\">\n",
              "  <thead>\n",
              "    <tr style=\"text-align: right;\">\n",
              "      <th></th>\n",
              "      <th>NC_000913.3</th>\n",
              "      <th>RefSeq</th>\n",
              "      <th>region</th>\n",
              "      <th>start</th>\n",
              "      <th>end</th>\n",
              "      <th>.</th>\n",
              "      <th>+</th>\n",
              "      <th>..1</th>\n",
              "      <th>ID</th>\n",
              "      <th>Gene</th>\n",
              "    </tr>\n",
              "  </thead>\n",
              "  <tbody>\n",
              "    <tr>\n",
              "      <th>3521</th>\n",
              "      <td>NC_000913.3</td>\n",
              "      <td>RefSeq</td>\n",
              "      <td>gene</td>\n",
              "      <td>1697273.0</td>\n",
              "      <td>1698040.0</td>\n",
              "      <td>.</td>\n",
              "      <td>-</td>\n",
              "      <td>.</td>\n",
              "      <td>ID=gene-b1619;Dbxref=ASAP:ABE-0005419,ECOCYC:E...</td>\n",
              "      <td>hdhA</td>\n",
              "    </tr>\n",
              "  </tbody>\n",
              "</table>\n",
              "</div>\n",
              "      <button class=\"colab-df-convert\" onclick=\"convertToInteractive('df-11208e29-ff2d-4a13-b5fb-bfe7c35eb075')\"\n",
              "              title=\"Convert this dataframe to an interactive table.\"\n",
              "              style=\"display:none;\">\n",
              "        \n",
              "  <svg xmlns=\"http://www.w3.org/2000/svg\" height=\"24px\"viewBox=\"0 0 24 24\"\n",
              "       width=\"24px\">\n",
              "    <path d=\"M0 0h24v24H0V0z\" fill=\"none\"/>\n",
              "    <path d=\"M18.56 5.44l.94 2.06.94-2.06 2.06-.94-2.06-.94-.94-2.06-.94 2.06-2.06.94zm-11 1L8.5 8.5l.94-2.06 2.06-.94-2.06-.94L8.5 2.5l-.94 2.06-2.06.94zm10 10l.94 2.06.94-2.06 2.06-.94-2.06-.94-.94-2.06-.94 2.06-2.06.94z\"/><path d=\"M17.41 7.96l-1.37-1.37c-.4-.4-.92-.59-1.43-.59-.52 0-1.04.2-1.43.59L10.3 9.45l-7.72 7.72c-.78.78-.78 2.05 0 2.83L4 21.41c.39.39.9.59 1.41.59.51 0 1.02-.2 1.41-.59l7.78-7.78 2.81-2.81c.8-.78.8-2.07 0-2.86zM5.41 20L4 18.59l7.72-7.72 1.47 1.35L5.41 20z\"/>\n",
              "  </svg>\n",
              "      </button>\n",
              "      \n",
              "  <style>\n",
              "    .colab-df-container {\n",
              "      display:flex;\n",
              "      flex-wrap:wrap;\n",
              "      gap: 12px;\n",
              "    }\n",
              "\n",
              "    .colab-df-convert {\n",
              "      background-color: #E8F0FE;\n",
              "      border: none;\n",
              "      border-radius: 50%;\n",
              "      cursor: pointer;\n",
              "      display: none;\n",
              "      fill: #1967D2;\n",
              "      height: 32px;\n",
              "      padding: 0 0 0 0;\n",
              "      width: 32px;\n",
              "    }\n",
              "\n",
              "    .colab-df-convert:hover {\n",
              "      background-color: #E2EBFA;\n",
              "      box-shadow: 0px 1px 2px rgba(60, 64, 67, 0.3), 0px 1px 3px 1px rgba(60, 64, 67, 0.15);\n",
              "      fill: #174EA6;\n",
              "    }\n",
              "\n",
              "    [theme=dark] .colab-df-convert {\n",
              "      background-color: #3B4455;\n",
              "      fill: #D2E3FC;\n",
              "    }\n",
              "\n",
              "    [theme=dark] .colab-df-convert:hover {\n",
              "      background-color: #434B5C;\n",
              "      box-shadow: 0px 1px 3px 1px rgba(0, 0, 0, 0.15);\n",
              "      filter: drop-shadow(0px 1px 2px rgba(0, 0, 0, 0.3));\n",
              "      fill: #FFFFFF;\n",
              "    }\n",
              "  </style>\n",
              "\n",
              "      <script>\n",
              "        const buttonEl =\n",
              "          document.querySelector('#df-11208e29-ff2d-4a13-b5fb-bfe7c35eb075 button.colab-df-convert');\n",
              "        buttonEl.style.display =\n",
              "          google.colab.kernel.accessAllowed ? 'block' : 'none';\n",
              "\n",
              "        async function convertToInteractive(key) {\n",
              "          const element = document.querySelector('#df-11208e29-ff2d-4a13-b5fb-bfe7c35eb075');\n",
              "          const dataTable =\n",
              "            await google.colab.kernel.invokeFunction('convertToInteractive',\n",
              "                                                     [key], {});\n",
              "          if (!dataTable) return;\n",
              "\n",
              "          const docLinkHtml = 'Like what you see? Visit the ' +\n",
              "            '<a target=\"_blank\" href=https://colab.research.google.com/notebooks/data_table.ipynb>data table notebook</a>'\n",
              "            + ' to learn more about interactive tables.';\n",
              "          element.innerHTML = '';\n",
              "          dataTable['output_type'] = 'display_data';\n",
              "          await google.colab.output.renderOutput(dataTable, element);\n",
              "          const docLink = document.createElement('div');\n",
              "          docLink.innerHTML = docLinkHtml;\n",
              "          element.appendChild(docLink);\n",
              "        }\n",
              "      </script>\n",
              "    </div>\n",
              "  </div>\n",
              "  "
            ]
          },
          "metadata": {},
          "execution_count": 26
        }
      ]
    },
    {
      "cell_type": "markdown",
      "source": [
        "Сделаем итоговую таблицу, где в столбцах start и end хранится информация о начальных и конечных координатах полученных пиков, также p-value, и гены. В строках лежат координаты пиков, которые четко попали внутрь промежутка координат гена по аннотации, также координаты пиков, начальная координата которых попала в промежуток координат гена по аннотации, а конечная координата нет, и еще координаты пиков, конечная координата которых попала в промежуток координат гена по аннотации, а начальная координата нет."
      ],
      "metadata": {
        "id": "EYNmc66aYEhQ"
      }
    },
    {
      "cell_type": "code",
      "source": [
        "cross_df = pd.concat([genes_cross_df, start_cross_df, end_cross_df], axis = 0)\n",
        "\n",
        "uxur_genes = uxur.drop(uxur.index[[0,11,13]])\n",
        "uxur_genes = uxur_genes.reset_index()\n",
        "del uxur_genes['index']\n",
        "\n",
        "df2 = pd.DataFrame(['ycgZ', 'pinQ', 'ynfO', 'uidA', 'hdhA', 'malX', 'ydiF', 'wbbJ', 'glf', 'yqeK', 'ygeH', 'waaY'], columns=['Genes'])\n",
        "\n",
        "uxur_genes_df = (pd.concat([uxur_genes, df2], axis=1))\n",
        "uxur_genes_df"
      ],
      "metadata": {
        "colab": {
          "base_uri": "https://localhost:8080/",
          "height": 426
        },
        "id": "TGThNaNChVhx",
        "outputId": "e8be73b6-09b5-404c-fc5c-e8516955f5d5"
      },
      "execution_count": null,
      "outputs": [
        {
          "output_type": "execute_result",
          "data": {
            "text/plain": [
              "      Start      End  p-value (-log10) Genes\n",
              "0   1215793  1215944           3.12916  ycgZ\n",
              "1   1633815  1634134           3.47978  pinQ\n",
              "2   1636787  1636935           1.52251  ynfO\n",
              "3   1696006  1696162           1.60706  uidA\n",
              "4   1697057  1697307           1.81585  hdhA\n",
              "5   1699674  1699857           1.75944  malX\n",
              "6   1776350  1776521           2.04177  ydiF\n",
              "7   2104847  2105014           1.89840  wbbJ\n",
              "8   2107533  2107707           1.47040   glf\n",
              "9   2990188  2990432           2.62642  yqeK\n",
              "10  2992989  2993387           1.77317  ygeH\n",
              "11  3800588  3800752           1.68450  waaY"
            ],
            "text/html": [
              "\n",
              "  <div id=\"df-89d3e7c0-35bf-4996-8939-e41607edf99e\">\n",
              "    <div class=\"colab-df-container\">\n",
              "      <div>\n",
              "<style scoped>\n",
              "    .dataframe tbody tr th:only-of-type {\n",
              "        vertical-align: middle;\n",
              "    }\n",
              "\n",
              "    .dataframe tbody tr th {\n",
              "        vertical-align: top;\n",
              "    }\n",
              "\n",
              "    .dataframe thead th {\n",
              "        text-align: right;\n",
              "    }\n",
              "</style>\n",
              "<table border=\"1\" class=\"dataframe\">\n",
              "  <thead>\n",
              "    <tr style=\"text-align: right;\">\n",
              "      <th></th>\n",
              "      <th>Start</th>\n",
              "      <th>End</th>\n",
              "      <th>p-value (-log10)</th>\n",
              "      <th>Genes</th>\n",
              "    </tr>\n",
              "  </thead>\n",
              "  <tbody>\n",
              "    <tr>\n",
              "      <th>0</th>\n",
              "      <td>1215793</td>\n",
              "      <td>1215944</td>\n",
              "      <td>3.12916</td>\n",
              "      <td>ycgZ</td>\n",
              "    </tr>\n",
              "    <tr>\n",
              "      <th>1</th>\n",
              "      <td>1633815</td>\n",
              "      <td>1634134</td>\n",
              "      <td>3.47978</td>\n",
              "      <td>pinQ</td>\n",
              "    </tr>\n",
              "    <tr>\n",
              "      <th>2</th>\n",
              "      <td>1636787</td>\n",
              "      <td>1636935</td>\n",
              "      <td>1.52251</td>\n",
              "      <td>ynfO</td>\n",
              "    </tr>\n",
              "    <tr>\n",
              "      <th>3</th>\n",
              "      <td>1696006</td>\n",
              "      <td>1696162</td>\n",
              "      <td>1.60706</td>\n",
              "      <td>uidA</td>\n",
              "    </tr>\n",
              "    <tr>\n",
              "      <th>4</th>\n",
              "      <td>1697057</td>\n",
              "      <td>1697307</td>\n",
              "      <td>1.81585</td>\n",
              "      <td>hdhA</td>\n",
              "    </tr>\n",
              "    <tr>\n",
              "      <th>5</th>\n",
              "      <td>1699674</td>\n",
              "      <td>1699857</td>\n",
              "      <td>1.75944</td>\n",
              "      <td>malX</td>\n",
              "    </tr>\n",
              "    <tr>\n",
              "      <th>6</th>\n",
              "      <td>1776350</td>\n",
              "      <td>1776521</td>\n",
              "      <td>2.04177</td>\n",
              "      <td>ydiF</td>\n",
              "    </tr>\n",
              "    <tr>\n",
              "      <th>7</th>\n",
              "      <td>2104847</td>\n",
              "      <td>2105014</td>\n",
              "      <td>1.89840</td>\n",
              "      <td>wbbJ</td>\n",
              "    </tr>\n",
              "    <tr>\n",
              "      <th>8</th>\n",
              "      <td>2107533</td>\n",
              "      <td>2107707</td>\n",
              "      <td>1.47040</td>\n",
              "      <td>glf</td>\n",
              "    </tr>\n",
              "    <tr>\n",
              "      <th>9</th>\n",
              "      <td>2990188</td>\n",
              "      <td>2990432</td>\n",
              "      <td>2.62642</td>\n",
              "      <td>yqeK</td>\n",
              "    </tr>\n",
              "    <tr>\n",
              "      <th>10</th>\n",
              "      <td>2992989</td>\n",
              "      <td>2993387</td>\n",
              "      <td>1.77317</td>\n",
              "      <td>ygeH</td>\n",
              "    </tr>\n",
              "    <tr>\n",
              "      <th>11</th>\n",
              "      <td>3800588</td>\n",
              "      <td>3800752</td>\n",
              "      <td>1.68450</td>\n",
              "      <td>waaY</td>\n",
              "    </tr>\n",
              "  </tbody>\n",
              "</table>\n",
              "</div>\n",
              "      <button class=\"colab-df-convert\" onclick=\"convertToInteractive('df-89d3e7c0-35bf-4996-8939-e41607edf99e')\"\n",
              "              title=\"Convert this dataframe to an interactive table.\"\n",
              "              style=\"display:none;\">\n",
              "        \n",
              "  <svg xmlns=\"http://www.w3.org/2000/svg\" height=\"24px\"viewBox=\"0 0 24 24\"\n",
              "       width=\"24px\">\n",
              "    <path d=\"M0 0h24v24H0V0z\" fill=\"none\"/>\n",
              "    <path d=\"M18.56 5.44l.94 2.06.94-2.06 2.06-.94-2.06-.94-.94-2.06-.94 2.06-2.06.94zm-11 1L8.5 8.5l.94-2.06 2.06-.94-2.06-.94L8.5 2.5l-.94 2.06-2.06.94zm10 10l.94 2.06.94-2.06 2.06-.94-2.06-.94-.94-2.06-.94 2.06-2.06.94z\"/><path d=\"M17.41 7.96l-1.37-1.37c-.4-.4-.92-.59-1.43-.59-.52 0-1.04.2-1.43.59L10.3 9.45l-7.72 7.72c-.78.78-.78 2.05 0 2.83L4 21.41c.39.39.9.59 1.41.59.51 0 1.02-.2 1.41-.59l7.78-7.78 2.81-2.81c.8-.78.8-2.07 0-2.86zM5.41 20L4 18.59l7.72-7.72 1.47 1.35L5.41 20z\"/>\n",
              "  </svg>\n",
              "      </button>\n",
              "      \n",
              "  <style>\n",
              "    .colab-df-container {\n",
              "      display:flex;\n",
              "      flex-wrap:wrap;\n",
              "      gap: 12px;\n",
              "    }\n",
              "\n",
              "    .colab-df-convert {\n",
              "      background-color: #E8F0FE;\n",
              "      border: none;\n",
              "      border-radius: 50%;\n",
              "      cursor: pointer;\n",
              "      display: none;\n",
              "      fill: #1967D2;\n",
              "      height: 32px;\n",
              "      padding: 0 0 0 0;\n",
              "      width: 32px;\n",
              "    }\n",
              "\n",
              "    .colab-df-convert:hover {\n",
              "      background-color: #E2EBFA;\n",
              "      box-shadow: 0px 1px 2px rgba(60, 64, 67, 0.3), 0px 1px 3px 1px rgba(60, 64, 67, 0.15);\n",
              "      fill: #174EA6;\n",
              "    }\n",
              "\n",
              "    [theme=dark] .colab-df-convert {\n",
              "      background-color: #3B4455;\n",
              "      fill: #D2E3FC;\n",
              "    }\n",
              "\n",
              "    [theme=dark] .colab-df-convert:hover {\n",
              "      background-color: #434B5C;\n",
              "      box-shadow: 0px 1px 3px 1px rgba(0, 0, 0, 0.15);\n",
              "      filter: drop-shadow(0px 1px 2px rgba(0, 0, 0, 0.3));\n",
              "      fill: #FFFFFF;\n",
              "    }\n",
              "  </style>\n",
              "\n",
              "      <script>\n",
              "        const buttonEl =\n",
              "          document.querySelector('#df-89d3e7c0-35bf-4996-8939-e41607edf99e button.colab-df-convert');\n",
              "        buttonEl.style.display =\n",
              "          google.colab.kernel.accessAllowed ? 'block' : 'none';\n",
              "\n",
              "        async function convertToInteractive(key) {\n",
              "          const element = document.querySelector('#df-89d3e7c0-35bf-4996-8939-e41607edf99e');\n",
              "          const dataTable =\n",
              "            await google.colab.kernel.invokeFunction('convertToInteractive',\n",
              "                                                     [key], {});\n",
              "          if (!dataTable) return;\n",
              "\n",
              "          const docLinkHtml = 'Like what you see? Visit the ' +\n",
              "            '<a target=\"_blank\" href=https://colab.research.google.com/notebooks/data_table.ipynb>data table notebook</a>'\n",
              "            + ' to learn more about interactive tables.';\n",
              "          element.innerHTML = '';\n",
              "          dataTable['output_type'] = 'display_data';\n",
              "          await google.colab.output.renderOutput(dataTable, element);\n",
              "          const docLink = document.createElement('div');\n",
              "          docLink.innerHTML = docLinkHtml;\n",
              "          element.appendChild(docLink);\n",
              "        }\n",
              "      </script>\n",
              "    </div>\n",
              "  </div>\n",
              "  "
            ]
          },
          "metadata": {},
          "execution_count": 28
        }
      ]
    },
    {
      "cell_type": "markdown",
      "source": [
        "Функции генов"
      ],
      "metadata": {
        "id": "MjbjuHZayZum"
      }
    },
    {
      "cell_type": "markdown",
      "source": [
        "#uidA - Beta-glucuronidase\n",
        "\n",
        "https://www.uniprot.org/uniprotkb/P05804/entry \n",
        "\n",
        "#hdhA - 7alpha-hydroxysteroid dehydrogenase\n",
        "\n",
        "7alpha-hydroxysteroid dehydrogenase involved in the metabolism of bile acids. Catalyzes the NAD+-dependent oxidation of the 7alpha-hydroxy group of 7alpha-hydroxysteroids, such as the major human bile acids cholate and chenodeoxycholate, to the corresponding 7-oxosteroids. To a lesser extent, can also act on taurochenodeoxycholate, taurocholate and glycocholate\n",
        "\n",
        "\n",
        "https://www.uniprot.org/uniprotkb/P0AET8/entry \n",
        "\n",
        "#malX - Maltooligosaccharide ABC transporter solute-binding lipoprotein\n",
        "\n",
        "Part of an ABC transporter complex involved in the uptake of maltodextrins. Binds glycogen-derived linear maltooligosaccharides increasing in size from maltotriose to maltooctaose with the highest affinity for maltotriose. Has a very weak affinity for maltose. Has also a very low affinity for maltotetraitol, indicating that the binding is selective for maltooligosaccharides with an intact reducing end.\n",
        "\n",
        "https://www.uniprot.org/uniprotkb/P19642/entry \n",
        "\n",
        "#ydiF - Acetate CoA-transferase\n",
        "\n",
        "CoA transferase having broad substrate specificity for short-chain acyl-CoA thioesters with the activity decreasing when the length of the carboxylic acid chain exceeds four carbons. Exhibits high activity with acetoacetyl-CoA, propionyl-CoA, crotonoyl-CoA or butyryl-CoA as donors, with acetate as an acceptor. When acetyl-CoA is used as the donor, propionate, acetoacetate, butyrate, isobutyrate, and 4-hydroxybutyrate can be utilized as acceptors but not isovalerate. May play a role in short-chain fatty acid metabolism in E.coli.\n",
        "\n",
        "\n",
        "https://www.uniprot.org/uniprotkb/Q8X5X6/entry \n",
        "\n",
        "#wbbJ - Putative lipopolysaccharide biosynthesis O-acetyl transferase\n",
        "\n",
        "Putative O-acetyltransferase that transfers an O-acetyl group to the O antigen (lipopolysaccharide biosynthesis).\n",
        "\n",
        "https://www.uniprot.org/uniprotkb/P37750/entry \n",
        "\n",
        "#glf - UDP-galactopyranose mutase\n",
        "\n",
        "Catalyzes the interconversion through a 2-keto intermediate of uridine diphosphogalactopyranose (UDP-GalP) into uridine diphosphogalactofuranose (UDP-GalF).\n",
        "\n",
        "https://www.uniprot.org/uniprotkb/P37747/entry \n",
        "\n",
        "#waaY - Lipopolysaccharide core heptose(II) kinase\n",
        "\n",
        "Catalyzes the phosphorylation of heptose(II) of the outer membrane lipopolysaccharide core.\n",
        "\n",
        "https://www.uniprot.org/uniprotkb/P27240/entry \n",
        "\n"
      ],
      "metadata": {
        "id": "vacpBAHYyv9W"
      }
    },
    {
      "cell_type": "markdown",
      "source": [
        "https://doi.org/10.1099/mic.0.000297\n",
        "\n",
        "В одном исследовании было показано, что белок UxuR является репрессором синтеза ферментов, которые нужны для метаболизма гексуроновой кислоты. Также есть упоминание о том, что ранее была подтверждена важность этого белка для быстрого роста с d-глюкуронатом в качестве основного источника углерода и энергии.\n",
        "\n",
        "https://www.uniprot.org/uniprotkb/P39161/entry\n",
        "\n",
        "Также было найдено, что этот белок является регулятором транскрипции оперона Uxu, а именно репрессором uxuRBA оперона. Он относится к sugar utilization operons. Такие опероны кодируют белки, необходимые для утилизации соответствующих сахаров. Еще их называют деградационными оперонами. Они выключены в отсутствии этих сахаров. Механизмы метаболизма сахаров регулируются разными транскрипционными факторами. А именно эти факторы регулируют каталитические ферменты и траспортеры, задействованные в механизмы превращения и расщепления сахаров, то есть их метаболизма.\n",
        "\n",
        "Utilization operon uxuRBA связан с генами утилизации галактуроната.\n",
        "\n",
        "Таким образом, данный белок вероятно является транскрипционным фактором, который связывается с промоторами генов, ответственных за метаболизм сахаров(utilization genes), которые организованы в оперон uxuRBA, и регулирует их экспрессию. \n",
        "\n",
        "Функциями найденной группы генов являются кодирование каталитических ферментов и/или транспортеров метаболизма сахаров. Вполне вероятно, что UxuR контролирует уровень экспрессии этих (каких-то из них) генов."
      ],
      "metadata": {
        "id": "BcgDud1MMJYw"
      }
    },
    {
      "cell_type": "markdown",
      "source": [
        "Используя ChIPMunk, найдем мотив для выбранного белка.\n"
      ],
      "metadata": {
        "id": "etgWChuNbFGV"
      }
    },
    {
      "cell_type": "markdown",
      "source": [
        "Вытащим последовательности из генома по файлу с координатами пиков и передадим их в файл .fasta"
      ],
      "metadata": {
        "id": "UC4wKeoPbSkO"
      }
    },
    {
      "cell_type": "code",
      "source": [
        "%cd /content/"
      ],
      "metadata": {
        "colab": {
          "base_uri": "https://localhost:8080/"
        },
        "id": "ky-9f-3gcKq9",
        "outputId": "ac289250-67a7-473f-8de6-7aea1c5ee937"
      },
      "execution_count": null,
      "outputs": [
        {
          "output_type": "stream",
          "name": "stdout",
          "text": [
            "/content\n"
          ]
        }
      ]
    },
    {
      "cell_type": "code",
      "source": [
        "!bedtools getfasta -fi Ecoli_K12_MG1655.fasta -bed /content/macs2/UxuR.bed -fo UxuR.mfa"
      ],
      "metadata": {
        "id": "dKneZ_rkcfda"
      },
      "execution_count": null,
      "outputs": []
    },
    {
      "cell_type": "code",
      "source": [
        "!head UxuR.mfa"
      ],
      "metadata": {
        "colab": {
          "base_uri": "https://localhost:8080/"
        },
        "id": "1tXczYNCloJy",
        "outputId": "fae234fe-92ca-4f20-97cb-ca675c810385"
      },
      "execution_count": null,
      "outputs": [
        {
          "output_type": "stream",
          "name": "stdout",
          "text": [
            ">U00096.3:313256-313585\n",
            "TTTAAAAAAGAGTGCACTTCGTAAGTGCCCTTATATAAATAACGAGTTTGGTCAACCAATTTTTTGACATGTATCACAAATTTGAATAGATGTATTACATCAACTATCTTTTATTGCACCAACGTCATTGATATATGTCGCCTGAAGTCAGTTCCGGGAATGAGTCTGATCTCAAGACTGGCCCAGTCCGGGCGTTGATTGGTGCTGAGGAGCATATCGCATCTCATCATAATGTCGTATCTCCTGGGGTGTTATACAAGATATCGTTGTTGGTGACCTGGGAGAGGAATTGAGTTCTATTAAACCGTCAACTATGCCGGATACATACT\n",
            ">U00096.3:1215793-1215944\n",
            "TCAAAATTCAGTGACTTTAGATTCTGCGGGAGCAATCACTCGTTACTTTGCAAAAGCTAACTTGCATACTCAGCAGGAAACTCTCGGGGAAATTGTGACTGAGATTTTGAAAGATGGACGTAATCTGAGTCGAAAGTCGCTTTGTGCCAAA\n",
            ">U00096.3:1633815-1634134\n",
            "ATTGATTGTGACAAAACTGGATCGCCTTGGTTGTAATGCAATGGATATCAGGAAAACAGTGGAACAACTGACCGAAACAGGTATCAGAGTGCATTGCTTAGCATTGGGGGGCATTGACCTGACCAGTCCAACAGGAAAAATGATGATGCAAGTAATTTCAGCAGTCGCTGAATTTGAACGAGACCTTTTACTTGAACGCACTCATTCCGGGATAGTAAGAGCCCGCGGCGCAGGGAAACGTTTTGGTCGACCACCTGTGTTAAATGAAGAACAGAAACAGGCGGTATTCGAACGAATTAAGTCAGGTGTAAGTATAAGT\n",
            ">U00096.3:1636787-1636935\n",
            "AACCCGCAACATCCGCTTTCCTAACCAAATGATTGAACAAATTAACATCGCTCTTGAGCAAAAAGGGTCCGGGAATTTCTCAGCCTGGGTCATTGAAGCCTGCCGCCGGAGACTGTGCTCAGAAAAAAGAGTTTCTTCTGAAGCAAAC\n",
            ">U00096.3:1696006-1696162\n",
            "CTGAATGCCCACAGGCCGTCGAGTTTTTTGATTTCACGGGTTGGGGTTTCTACAGGACGTAACATAAGGGACTCCTCATTAAGATAATAATACTGGTCAACCTTTAATCTGATTAGTTAACCAATTCTGTGTTGCACACAGTTATCTGTGAGAAAC\n"
          ]
        }
      ]
    },
    {
      "cell_type": "markdown",
      "source": [
        "Установим ChipMunk"
      ],
      "metadata": {
        "id": "3ANkzrnnnur2"
      }
    },
    {
      "cell_type": "code",
      "source": [
        "!wget https://autosome.org/ChIPMunk/chipmunk.jar"
      ],
      "metadata": {
        "id": "SBSgL_tklq3D"
      },
      "execution_count": null,
      "outputs": []
    },
    {
      "cell_type": "code",
      "source": [
        "!java -jar chipmunk.jar 7 10 yes oops s:UxuR.mfa"
      ],
      "metadata": {
        "colab": {
          "base_uri": "https://localhost:8080/"
        },
        "id": "m_qVPF5KoUEd",
        "outputId": "e8e995bc-bcbf-44df-c809-99085d8019d3"
      },
      "execution_count": null,
      "outputs": [
        {
          "output_type": "stream",
          "name": "stdout",
          "text": [
            "ru.autosome.ChIPMunk usage: <start_length> <stop_length> <verbose=(n)o|(y)es> <mode=(o)ops|zoops_factor=1.0|0.0> <ru.autosome.ChIPAct parameters>\n",
            "PROG|ru.autosome.ChIPMunk V8 02022020\n",
            "trying motif length: 7\n",
            "ru.autosome.ChIPAct engine usage: <length> <s:simple_set> <o:ordered_set> <w:weighted_set> <p:peak_set> <m:summit_set> <r:rna_set> [<try_limit>=100] [<step_limit>=10>] [<iter_limit>=1] [<thread_count>=1] [<seeds_set>=random|filename.mfa] [<gc%>=0.5|auto] [<motif_shape>=flat|single|double] [<disable_log_weighting>]\n",
            "using logarithmic sets weighting\n",
            "using 15 sequences\n",
            "gathering seeds...\n",
            "gathered 100 seeds\n",
            "PROG|ru.autosome.ChIPAct V8 02022020\n",
            "found new GMLA with higher KDIC 0.7867034496915535 > 0.0\n",
            "found new GMLA with higher KDIC 0.8091435085485743 > 0.7867034496915535\n",
            "found new GMLA with higher KDIC 0.8096174879464358 > 0.8091435085485743\n",
            "overall progress: 1% complete (motif discovery, length 7: 10.0% complete)\n",
            "overall progress: 4% complete (motif discovery, length 7: 20.0% complete)\n",
            "overall progress: 7% complete (motif discovery, length 7: 30.0% complete)\n",
            "overall progress: 10% complete (motif discovery, length 7: 40.0% complete)\n",
            "overall progress: 12% complete (motif discovery, length 7: 50.0% complete)\n",
            "overall progress: 15% complete (motif discovery, length 7: 60.0% complete)\n",
            "overall progress: 18% complete (motif discovery, length 7: 70.0% complete)\n",
            "overall progress: 21% complete (motif discovery, length 7: 80.0% complete)\n",
            "overall progress: 24% complete (motif discovery, length 7: 90.0% complete)\n",
            "OUTC|ru.autosome.ChIPAct\n",
            "success; best KDIC 0.8096174879464358\n",
            "DIAG|gapless multiple local alignment of length 7\n",
            "KDIC|0.8096174879464358\n",
            "TIME|0.548\n",
            "DUMP|ru.autosome.ChIPAct V8 02022020\n",
            "/\\/\\| -------------------------- \n",
            "_^^_| P0wered by cute chipmunks! \n",
            "checking motif strength...\n",
            "found strong motif, saving\n",
            "trying motif length: 8\n",
            "ru.autosome.ChIPAct engine usage: <length> <s:simple_set> <o:ordered_set> <w:weighted_set> <p:peak_set> <m:summit_set> <r:rna_set> [<try_limit>=100] [<step_limit>=10>] [<iter_limit>=1] [<thread_count>=1] [<seeds_set>=random|filename.mfa] [<gc%>=0.5|auto] [<motif_shape>=flat|single|double] [<disable_log_weighting>]\n",
            "using logarithmic sets weighting\n",
            "using 15 sequences\n",
            "gathering seeds...\n",
            "gathered 100 seeds\n",
            "PROG|ru.autosome.ChIPAct V8 02022020\n",
            "found new GMLA with higher KDIC 0.7321201836340407 > 0.0\n",
            "found new GMLA with higher KDIC 0.7456385949996704 > 0.7321201836340407\n",
            "overall progress: 26% complete (motif discovery, length 8: 10.0% complete)\n",
            "found new GMLA with higher KDIC 0.7645904142688928 > 0.7456385949996704\n",
            "found new GMLA with higher KDIC 0.7660899807064081 > 0.7645904142688928\n",
            "overall progress: 29% complete (motif discovery, length 8: 20.0% complete)\n",
            "overall progress: 32% complete (motif discovery, length 8: 30.0% complete)\n",
            "overall progress: 35% complete (motif discovery, length 8: 40.0% complete)\n",
            "overall progress: 37% complete (motif discovery, length 8: 50.0% complete)\n",
            "overall progress: 40% complete (motif discovery, length 8: 60.0% complete)\n",
            "overall progress: 43% complete (motif discovery, length 8: 70.0% complete)\n",
            "overall progress: 46% complete (motif discovery, length 8: 80.0% complete)\n",
            "overall progress: 49% complete (motif discovery, length 8: 90.0% complete)\n",
            "OUTC|ru.autosome.ChIPAct\n",
            "success; best KDIC 0.7660899807064081\n",
            "DIAG|gapless multiple local alignment of length 8\n",
            "KDIC|0.7660899807064081\n",
            "TIME|0.992\n",
            "DUMP|ru.autosome.ChIPAct V8 02022020\n",
            "/\\/\\| -------------------------- \n",
            "_^^_| P0wered by cute chipmunks! \n",
            "checking motif strength...\n",
            "found strong motif, saving\n",
            "trying motif length: 9\n",
            "ru.autosome.ChIPAct engine usage: <length> <s:simple_set> <o:ordered_set> <w:weighted_set> <p:peak_set> <m:summit_set> <r:rna_set> [<try_limit>=100] [<step_limit>=10>] [<iter_limit>=1] [<thread_count>=1] [<seeds_set>=random|filename.mfa] [<gc%>=0.5|auto] [<motif_shape>=flat|single|double] [<disable_log_weighting>]\n",
            "using logarithmic sets weighting\n",
            "using 15 sequences\n",
            "gathering seeds...\n",
            "gathered 100 seeds\n",
            "PROG|ru.autosome.ChIPAct V8 02022020\n",
            "found new GMLA with higher KDIC 0.7158335783525989 > 0.0\n",
            "found new GMLA with higher KDIC 0.7158335783525991 > 0.7158335783525989\n",
            "overall progress: 51% complete (motif discovery, length 9: 10.0% complete)\n",
            "found new GMLA with higher KDIC 0.716645123869464 > 0.7158335783525991\n",
            "overall progress: 54% complete (motif discovery, length 9: 20.0% complete)\n",
            "overall progress: 57% complete (motif discovery, length 9: 30.0% complete)\n",
            "overall progress: 60% complete (motif discovery, length 9: 40.0% complete)\n",
            "overall progress: 62% complete (motif discovery, length 9: 50.0% complete)\n",
            "overall progress: 65% complete (motif discovery, length 9: 60.0% complete)\n",
            "overall progress: 68% complete (motif discovery, length 9: 70.0% complete)\n",
            "overall progress: 71% complete (motif discovery, length 9: 80.0% complete)\n",
            "overall progress: 74% complete (motif discovery, length 9: 90.0% complete)\n",
            "OUTC|ru.autosome.ChIPAct\n",
            "success; best KDIC 0.716645123869464\n",
            "DIAG|gapless multiple local alignment of length 9\n",
            "KDIC|0.716645123869464\n",
            "TIME|1.375\n",
            "DUMP|ru.autosome.ChIPAct V8 02022020\n",
            "/\\/\\| -------------------------- \n",
            "_^^_| P0wered by cute chipmunks! \n",
            "checking motif strength...\n",
            "found strong motif, saving\n",
            "trying motif length: 10\n",
            "ru.autosome.ChIPAct engine usage: <length> <s:simple_set> <o:ordered_set> <w:weighted_set> <p:peak_set> <m:summit_set> <r:rna_set> [<try_limit>=100] [<step_limit>=10>] [<iter_limit>=1] [<thread_count>=1] [<seeds_set>=random|filename.mfa] [<gc%>=0.5|auto] [<motif_shape>=flat|single|double] [<disable_log_weighting>]\n",
            "using logarithmic sets weighting\n",
            "using 15 sequences\n",
            "gathering seeds...\n",
            "gathered 100 seeds\n",
            "PROG|ru.autosome.ChIPAct V8 02022020\n",
            "found new GMLA with higher KDIC 0.6235058729035043 > 0.0\n",
            "found new GMLA with higher KDIC 0.6571275571954907 > 0.6235058729035043\n",
            "found new GMLA with higher KDIC 0.6591305706774644 > 0.6571275571954907\n",
            "found new GMLA with higher KDIC 0.6622829020843961 > 0.6591305706774644\n",
            "found new GMLA with higher KDIC 0.6743210177924521 > 0.6622829020843961\n",
            "overall progress: 76% complete (motif discovery, length 10: 10.0% complete)\n",
            "found new GMLA with higher KDIC 0.7035297129223639 > 0.6743210177924521\n",
            "overall progress: 79% complete (motif discovery, length 10: 20.0% complete)\n",
            "overall progress: 82% complete (motif discovery, length 10: 30.0% complete)\n",
            "overall progress: 85% complete (motif discovery, length 10: 40.0% complete)\n",
            "overall progress: 87% complete (motif discovery, length 10: 50.0% complete)\n",
            "overall progress: 90% complete (motif discovery, length 10: 60.0% complete)\n",
            "overall progress: 93% complete (motif discovery, length 10: 70.0% complete)\n",
            "overall progress: 96% complete (motif discovery, length 10: 80.0% complete)\n",
            "overall progress: 99% complete (motif discovery, length 10: 90.0% complete)\n",
            "OUTC|ru.autosome.ChIPAct\n",
            "success; best KDIC 0.7035297129223639\n",
            "DIAG|gapless multiple local alignment of length 10\n",
            "KDIC|0.7035297129223639\n",
            "TIME|1.77\n",
            "DUMP|ru.autosome.ChIPAct V8 02022020\n",
            "/\\/\\| -------------------------- \n",
            "_^^_| P0wered by cute chipmunks! \n",
            "checking motif strength...\n",
            "found strong motif, saving\n",
            "OUTC|ru.autosome.ChIPMunk\n",
            "found motif of the maximal allowed length 10; please, check input parameters\n",
            "TOTL|15\n",
            "WRDS|15\n",
            "SEQS|15\n",
            "COVR|1.0\n",
            "LIST|seq#\tpos#\tword\tscore\tstrand\tweight\n",
            "WORD|3\t53\tTTGAGCAAAA\t9.931206727341582\tdirect\t0.9999999999999999\n",
            "WORD|6\t25\tTTGACCAATA\t9.699683975159086\tdirect\t0.9999999999999999\n",
            "WORD|8\t87\tTTCACCAAAA\t9.077490518683533\tdirect\t0.9999999999999999\n",
            "WORD|4\t90\tTTGACCAGTA\t9.068016039423334\trevcomp\t0.9999999999999999\n",
            "WORD|0\t45\tTTGACCAAAC\t8.60199701826153\trevcomp\t0.9999999999999999\n",
            "WORD|14\t111\tTTGAGCAAAC\t8.30019167253739\trevcomp\t0.9999999999999999\n",
            "WORD|2\t240\tTCGACCAAAA\t8.134309532126744\trevcomp\t0.9999999999999999\n",
            "WORD|10\t205\tTTGAACAGTA\t8.014487011503691\trevcomp\t0.9999999999999999\n",
            "WORD|11\t22\tTAGAGCAAAA\t7.832504186402604\trevcomp\t0.9999999999999999\n",
            "WORD|5\t113\tTTAACCAATA\t7.759075771859188\tdirect\t0.9999999999999999\n",
            "WORD|9\t89\tTTGATCAGTA\t7.546799525368908\trevcomp\t0.9999999999999999\n",
            "WORD|12\t57\tTTGAGCAGCA\t7.5467995253689075\trevcomp\t0.9999999999999999\n",
            "WORD|7\t42\tGTCACCAGAA\t6.276554051799984\trevcomp\t0.9999999999999999\n",
            "WORD|13\t122\tTTCAATAAAA\t5.854692959616096\trevcomp\t0.9999999999999999\n",
            "WORD|1\t141\tTTGTGCCAAA\t5.5926696650459915\tdirect\t0.9999999999999999\n",
            "LENG|-1\n",
            "KDIC|0.7035297129223639\n",
            "A|0.0 0.9999999999999999 0.9999999999999999 13.999999999999998 1.9999999999999998 0.0 13.999999999999998 9.999999999999998 8.999999999999998 12.999999999999998\n",
            "C|0.0 0.9999999999999999 2.9999999999999996 0.0 6.999999999999999 13.999999999999998 0.9999999999999999 0.0 0.9999999999999999 1.9999999999999998\n",
            "G|0.9999999999999999 0.0 10.999999999999998 0.0 4.999999999999999 0.0 0.0 4.999999999999999 0.0 0.0\n",
            "T|13.999999999999998 12.999999999999998 0.0 0.9999999999999999 0.9999999999999999 0.9999999999999999 0.0 0.0 4.999999999999999 0.0\n",
            "N|14.999999999999998\n",
            "PWMA|-1.8777904568536166 -0.9707110221060701 -0.9707110221060701 1.1985575090417253 -0.5030235359712861 -1.8777904568536166 1.1985575090417253 0.8803680819599696 0.7820282441308501 1.1279915188329077\n",
            "PWMC|-1.8777904568536166 -0.9707110221060701 -0.1856243731883592 -1.8777904568536166 0.5505054919483562 1.1985575090417253 -0.9707110221060701 -1.8777904568536166 -0.9707110221060701 -0.5030235359712861\n",
            "PWMG|-0.9707110221060701 -1.8777904568536166 0.9698971811938303 -1.8777904568536166 0.248700146224215 -1.8777904568536166 -1.8777904568536166 0.248700146224215 -1.8777904568536166 -1.8777904568536166\n",
            "PWMT|1.1985575090417253 1.1279915188329077 -1.8777904568536166 -0.9707110221060701 -0.9707110221060701 -0.9707110221060701 -1.8777904568536166 -1.8777904568536166 0.248700146224215 -1.8777904568536166\n",
            "THRE|5.5926696650459915\n",
            "IUPA|TTGAvCAAWA\n",
            "ORDR|A C G T\n",
            "BACK|0.25 0.25 0.25 0.25\n",
            "DIAG|partial success; strong motif found on the border of the given lengths interval\n",
            "TIME|1.774\n",
            "DUMP|ru.autosome.ChIPMunk V8 02022020\n",
            "/\\/\\| -------------------------- \n",
            "_^^_| P0wered by cute chipmunks! \n"
          ]
        }
      ]
    },
    {
      "cell_type": "markdown",
      "source": [
        "Таким образом, лучшим мотивом является TTGAGCAAAA с score = 9.931\n",
        "\n",
        "WORD|3\t53\tTTGAGCAAAA\t9.931206727341582\tdirect\t0.9999999999999999\n",
        "\n"
      ],
      "metadata": {
        "id": "N0rFZmV_smud"
      }
    }
  ]
}